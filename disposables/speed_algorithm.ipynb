{
 "cells": [
  {
   "cell_type": "code",
   "execution_count": null,
   "metadata": {},
   "outputs": [],
   "source": [
    "import json\n",
    "import numpy as np\n",
    "import matplotlib.pyplot as plt\n",
    "import cv2\n",
    "from pathlib import Path\n",
    "import os\n",
    "from tqdm import tqdm"
   ]
  },
  {
   "cell_type": "code",
   "execution_count": null,
   "metadata": {},
   "outputs": [],
   "source": [
    "# REFERENCE: https://www.carwow.co.uk/guides/glossary/what-is-a-car-wheelbase-0282\n",
    "WHEEL_BASE = 2.43 #IN METERS"
   ]
  },
  {
   "cell_type": "code",
   "execution_count": null,
   "metadata": {},
   "outputs": [],
   "source": [
    "f = open(\"/code/data/datasets/common_hall/tracking_outputs/framewise_aggregation.json\")\n",
    "frame_to_predictions_map = json.load(f)\n",
    "f = open(\"/code/data/datasets/common_hall/tracking_outputs/objectwise_aggregation.json\")\n",
    "objects_to_predictions_map = json.load(f)['annotations'] #the object_id attribute of frame_to_predictions_map are the keys of object_to_predictions_map"
   ]
  },
  {
   "cell_type": "code",
   "execution_count": null,
   "metadata": {},
   "outputs": [],
   "source": [
    "#get all the backtire keypoints for object 0\n",
    "tire_dict = {}\n",
    "for i in range(len(objects_to_predictions_map)):    \n",
    "    tire_dict[f'obj_{i}_back_x'] = []\n",
    "    tire_dict[f'obj_{i}_back_y'] = []\n",
    "    tire_dict[f'obj_{i}_front_x'] = []\n",
    "    tire_dict[f'obj_{i}_front_y'] = []\n",
    "col_names = list(tire_dict.keys())"
   ]
  },
  {
   "cell_type": "code",
   "execution_count": null,
   "metadata": {},
   "outputs": [],
   "source": [
    "def validate_inclusion(_x, _y, _cx, _cy, _r):\n",
    "    return (_x - _cx)**2 + (_y -_cy)**2 < _r**2"
   ]
  },
  {
   "cell_type": "code",
   "execution_count": null,
   "metadata": {},
   "outputs": [],
   "source": [
    "frame_path = '/code/data/datasets/frame_imgs'\n",
    "frame_list = os.listdir(frame_path)\n",
    "frame_border = True\n",
    "rule0 = False\n",
    "rule1 = False\n",
    "rule2 = False\n",
    "def get_objectwise_keypoints(rule0, rule1, rule2):\n",
    "    objectwise_keypoints = {}\n",
    "    for i in range(len(objects_to_predictions_map)):\n",
    "        objectwise_keypoints[objects_to_predictions_map[i]['id']] = []\n",
    "    for frame_idx in range(len(frame_to_predictions_map)):\n",
    "        frame = cv2.imread(str(Path(frame_path)/f'{frame_idx}.jpg'))\n",
    "        if frame_border:\n",
    "            img = cv2.rectangle(frame, (450, 200), (1280, 720), (0, 255, 0), thickness=4)\n",
    "        objects_per_frame = frame_to_predictions_map[frame_idx]['annotations']\n",
    "        for obj_idx in range(len(objects_per_frame)):\n",
    "            back_tire_x = objects_per_frame[obj_idx]['keypoints'][0][0]\n",
    "            back_tire_y =objects_per_frame[obj_idx]['keypoints'][0][1]\n",
    "            front_tire_x = objects_per_frame[obj_idx]['keypoints'][1][0]\n",
    "            front_tire_y = objects_per_frame[obj_idx]['keypoints'][1][1]\n",
    "            x1, y1, x2, y2 = objects_per_frame[obj_idx]['bounding_box']\n",
    "            #rule #0\n",
    "            if rule0 == True:\n",
    "                frame_save_path = Path('/code/data/datasets/rule0_imgs')\n",
    "                if x1 < 600 or x1>= 1100:\n",
    "                    back_tire_x = -100\n",
    "                    back_tire_y = -100\n",
    "                    front_tire_x = -100\n",
    "                    front_tire_y = -100\n",
    "\n",
    "            #rule #1\n",
    "            if rule1 == True:\n",
    "                frame_save_path = Path('/code/data/datasets/rule1_imgs')\n",
    "                if (back_tire_y <= y1 + int((y2 - y1)/2)):\n",
    "                    back_tire_x = -100\n",
    "                    back_tire_y = -100\n",
    "                if (front_tire_y <= y1 + int((y2 - y1)/2)):\n",
    "                    front_tire_x = -100\n",
    "                    front_tire_y = -100\n",
    "            #rule #2\n",
    "            if rule2 == True:\n",
    "                frame_save_path = Path('/code/data/datasets/rule2_imgs')\n",
    "                if validate_inclusion(back_tire_x, back_tire_y, front_tire_x, front_tire_y, 20):\n",
    "                    if np.array(objects_per_frame[obj_idx]['keypoints_scores']).argmax() == 0:\n",
    "                        front_tire_x = -100\n",
    "                        front_tire_y = -100\n",
    "                    else:\n",
    "                        back_tire_x = -100\n",
    "                        back_tire_y = -100\n",
    "\n",
    "            # img = cv2.rectangle(frame, (int(x1), int(y1)), (int(x2), int(y2)), (0, 255, 0), thickness=4)\n",
    "            # img = cv2.circle(img, (int(back_tire_x), int(back_tire_y)), radius=5, color=(0, 0, 255), thickness=-1) #Blue: Backtire\n",
    "            # img = cv2.circle(img, (int(front_tire_x), int(front_tire_y)), radius=5, color=(255, 0, 0), thickness=-1) #Red Front tire\n",
    "            # cv2.imwrite(os.path.join(frame_save_path, f'{frame_idx}.jpg'), img)\n",
    "            # back_tire_x_list.append(back_tire_x)\n",
    "            # back_tire_y_list.append(back_tire_y)\n",
    "            # front_tire_x_list.append(front_tire_x)\n",
    "            # front_tire_y_list.append(front_tire_y)\n",
    "            objectwise_keypoints[objects_per_frame[obj_idx]['object_tracklet_id']].append((back_tire_x, back_tire_y, front_tire_x, front_tire_y))\n",
    "    return objectwise_keypoints"
   ]
  },
  {
   "cell_type": "code",
   "execution_count": null,
   "metadata": {},
   "outputs": [],
   "source": [
    "objectwise_keypoints = get_objectwise_keypoints(True, True, True)\n",
    "object_names = list(objectwise_keypoints.keys())"
   ]
  },
  {
   "cell_type": "code",
   "execution_count": null,
   "metadata": {},
   "outputs": [],
   "source": [
    "vehicle_keypoints = objectwise_keypoints[object_names[4]]"
   ]
  },
  {
   "cell_type": "code",
   "execution_count": null,
   "metadata": {},
   "outputs": [],
   "source": [
    "object_name = object_names[4]\n",
    "back_tire_x_list = []\n",
    "back_tire_y_list = []\n",
    "front_tire_x_list = []\n",
    "front_tire_y_list = []\n",
    "for keypoints_per_frame in objectwise_keypoints[object_name]:\n",
    "    back_tire_x, back_tire_y, front_tire_x, front_tire_y = keypoints_per_frame\n",
    "    back_tire_x_list.append(back_tire_x)\n",
    "    back_tire_y_list.append(back_tire_y)\n",
    "    front_tire_x_list.append(front_tire_x)\n",
    "    front_tire_y_list.append(front_tire_y)"
   ]
  },
  {
   "cell_type": "code",
   "execution_count": null,
   "metadata": {},
   "outputs": [],
   "source": [
    "back_tire_keypoints = [back_tire_x_list, back_tire_y_list]\n",
    "back_tire_keypoints = [list(x) for x in zip(*back_tire_keypoints[::-1])]\n",
    "front_tire_keypoints = [front_tire_x_list, front_tire_y_list]\n",
    "front_tire_keypoints = [list(x) for x in zip(*front_tire_keypoints[::-1])]"
   ]
  },
  {
   "cell_type": "code",
   "execution_count": null,
   "metadata": {},
   "outputs": [],
   "source": [
    "from math import sqrt\n",
    "def get_distance(_x1, _y1, _x2, _y2):\n",
    "    return sqrt((_x1 -_x2)**2 + (_y1 -_y2)**2)"
   ]
  },
  {
   "cell_type": "code",
   "execution_count": null,
   "metadata": {},
   "outputs": [],
   "source": [
    "tire_distance = 0\n",
    "valid_points = 0\n",
    "total_num_points = len(objectwise_keypoints[object_name])\n",
    "for keypoints_per_frame in objectwise_keypoints[object_name]:\n",
    "    back_tire_x, back_tire_y, front_tire_x, front_tire_y = keypoints_per_frame\n",
    "    if back_tire_x >=0 and front_tire_x >=0:\n",
    "        valid_points += 1\n",
    "        tire_distance += get_distance(back_tire_x, back_tire_y, front_tire_x, front_tire_y)\n",
    "tire_distance /= valid_points\n",
    "print(\"Tire Distance is \", tire_distance)\n",
    "print(\"Num. of valid points are\", valid_points)\n",
    "print(\"Total number of points\", total_num_points)\n"
   ]
  },
  {
   "cell_type": "code",
   "execution_count": null,
   "metadata": {},
   "outputs": [],
   "source": [
    "def frames_to_seconds(_fps, _n_frames):\n",
    "    return (1/_fps * _n_frames)"
   ]
  },
  {
   "cell_type": "code",
   "execution_count": 62,
   "metadata": {},
   "outputs": [
    {
     "name": "stdout",
     "output_type": "stream",
     "text": [
      "Current Speed is 4 meters/Sec\n",
      "Current Speed is 4 meters/Sec\n",
      "Current Speed is 4 meters/Sec\n",
      "Current Speed is 5 meters/Sec\n",
      "Current Speed is 5 meters/Sec\n",
      "Current Speed is 5 meters/Sec\n",
      "Current Speed is 5 meters/Sec\n",
      "Current Speed is 5 meters/Sec\n",
      "Current Speed is 5 meters/Sec\n",
      "Current Speed is 5 meters/Sec\n",
      "Current Speed is 6 meters/Sec\n",
      "Current Speed is 6 meters/Sec\n",
      "Current Speed is 6 meters/Sec\n",
      "Current Speed is 6 meters/Sec\n",
      "Current Speed is 6 meters/Sec\n",
      "Current Speed is 6 meters/Sec\n",
      "Current Speed is 7 meters/Sec\n",
      "Current Speed is 7 meters/Sec\n",
      "Current Speed is 7 meters/Sec\n",
      "Current Speed is 7 meters/Sec\n",
      "Current Speed is 7 meters/Sec\n",
      "Current Speed is 7 meters/Sec\n",
      "Current Speed is 8 meters/Sec\n",
      "Current Speed is 9 meters/Sec\n",
      "Current Speed is 9 meters/Sec\n",
      "Current Speed is 9 meters/Sec\n",
      "Current Speed is 9 meters/Sec\n",
      "Current Speed is 10 meters/Sec\n",
      "Current Speed is 10 meters/Sec\n",
      "Current Speed is 10 meters/Sec\n",
      "Current Speed is 10 meters/Sec\n",
      "Current Speed is 12 meters/Sec\n",
      "Current Speed is 12 meters/Sec\n",
      "Current Speed is 12 meters/Sec\n",
      "Current Speed is 15 meters/Sec\n",
      "Current Speed is 15 meters/Sec\n",
      "Current Speed is 15 meters/Sec\n",
      "Current Speed is 12 meters/Sec\n",
      "Current Speed is 15 meters/Sec\n"
     ]
    }
   ],
   "source": [
    "speed_checkpoints = []\n",
    "vehicle_speed = []\n",
    "for i in range(total_num_points):\n",
    "    back_tire = back_tire_keypoints[i]\n",
    "    if back_tire[0] < 0:\n",
    "        continue\n",
    "    for j in range(i,total_num_points):\n",
    "        front_tire = front_tire_keypoints[j]\n",
    "        if front_tire[0] < 0:\n",
    "            continue\n",
    "        back_tire_x = back_tire[0]\n",
    "        back_tire_y = back_tire[1]\n",
    "        front_tire_x = front_tire[0]\n",
    "        front_tire_y = front_tire[1]\n",
    "        if get_distance(back_tire_x, back_tire_y, front_tire_x, front_tire_y) >= tire_distance:\n",
    "            # speed_checkpoints.append((i,j))\n",
    "            speed_checkpoints.append((j - i))\n",
    "            if (j -i) >= 5:\n",
    "                approximate_speed = round(WHEEL_BASE / frames_to_seconds(30, j - i))\n",
    "                print(\"Current Speed is\", approximate_speed, \"meters/Sec\")\n",
    "                vehicle_speed.append(approximate_speed)\n",
    "            break\n",
    "# print(\"Speed checkpoints are\", speed_checkpoints)\n"
   ]
  },
  {
   "cell_type": "code",
   "execution_count": 63,
   "metadata": {},
   "outputs": [
    {
     "data": {
      "text/plain": [
       "[<matplotlib.lines.Line2D at 0x7f671e3d05b0>]"
      ]
     },
     "execution_count": 63,
     "metadata": {},
     "output_type": "execute_result"
    },
    {
     "data": {
      "image/png": "[encoded data removed]",
      "text/plain": [
       "<Figure size 640x480 with 1 Axes>"
      ]
     },
     "metadata": {},
     "output_type": "display_data"
    }
   ],
   "source": [
    "plt.plot(vehicle_speed)"
   ]
  }
 ],
 "metadata": {
  "kernelspec": {
   "display_name": "Python 3.9.14 64-bit",
   "language": "python",
   "name": "python3"
  },
  "language_info": {
   "codemirror_mode": {
    "name": "ipython",
    "version": 3
   },
   "file_extension": ".py",
   "mimetype": "text/x-python",
   "name": "python",
   "nbconvert_exporter": "python",
   "pygments_lexer": "ipython3",
   "version": "3.9.14"
  },
  "orig_nbformat": 4,
  "vscode": {
   "interpreter": {
    "hash": "f9f85f796d01129d0dd105a088854619f454435301f6ffec2fea96ecbd9be4ac"
   }
  }
 },
 "nbformat": 4,
 "nbformat_minor": 2
}
