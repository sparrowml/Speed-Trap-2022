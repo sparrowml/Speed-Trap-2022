{
 "cells": [
  {
   "cell_type": "code",
   "execution_count": 1,
   "metadata": {},
   "outputs": [
    {
     "name": "stderr",
     "output_type": "stream",
     "text": [
      "/usr/local/lib/python3.9/dist-packages/tqdm/auto.py:22: TqdmWarning: IProgress not found. Please update jupyter and ipywidgets. See https://ipywidgets.readthedocs.io/en/stable/user_install.html\n",
      "  from .autonotebook import tqdm as notebook_tqdm\n",
      "/usr/lib/python3/dist-packages/requests/__init__.py:89: RequestsDependencyWarning: urllib3 (1.26.12) or chardet (3.0.4) doesn't match a supported version!\n",
      "  warnings.warn(\"urllib3 ({}) or chardet ({}) doesn't match a supported \"\n",
      "/usr/local/lib/python3.9/dist-packages/torch/functional.py:445: UserWarning: torch.meshgrid: in an upcoming release, it will be required to pass the indexing argument. (Triggered internally at  ../aten/src/ATen/native/TensorShape.cpp:2157.)\n",
      "  return _VF.meshgrid(tensors, **kwargs)  # type: ignore[attr-defined]\n"
     ]
    },
    {
     "ename": "",
     "evalue": "",
     "output_type": "error",
     "traceback": [
      "\u001b[1;31mThe Kernel crashed while executing code in the the current cell or a previous cell. Please review the code in the cell(s) to identify a possible cause of the failure. Click <a href='https://aka.ms/vscodeJupyterKernelCrash'>here</a> for more info. View Jupyter <a href='command:jupyter.viewOutput'>log</a> for further details."
     ]
    }
   ],
   "source": [
    "\n",
    "\n",
    "import csv\n",
    "from pathlib import Path\n",
    "\n",
    "import cv2\n",
    "import imageio\n",
    "import imageio_ffmpeg\n",
    "import numpy as np\n",
    "import onnxruntime as ort\n",
    "import torch\n",
    "import os\n",
    "import torchvision.transforms as T\n",
    "from PIL import Image\n",
    "from sparrow_datums import BoxTracking\n",
    "from tqdm import tqdm\n",
    "from torch.utils.data import DataLoader\n",
    "from speed_trapv3.detection.dataset import RetinaNetDataset\n",
    "from speed_trapv3.utils import Holdout\n",
    "import matplotlib.pyplot as plt\n",
    "from speed_trapv3.detection.model import RetinaNet\n",
    "from speed_trapv3.detection.config import Config\n",
    "import matplotlib.pyplot as plt\n",
    "\n",
    "data = RetinaNetDataset(Holdout.DEV)\n",
    "dataloader = DataLoader(data, batch_size=1, shuffle=False)\n",
    "model = RetinaNet().eval().cuda()\n",
    "model.load(Config.trained_model_path)\n",
    "count = 0\n",
    "for batch in iter(dataloader):\n",
    "    x = batch['image']\n",
    "    x = x.cuda()\n",
    "    result = model(x)\n",
    "    bbxes = result[0][\"boxes\"].detach().cpu().numpy()\n",
    "    # keypoints = batch['keypoints'].detach().cpu().numpy()[0]\n",
    "    transform = T.ToPILImage()\n",
    "    img = np.array(transform(x[0]))\n",
    "    for bbox in bbxes:\n",
    "        x1, y1, x2, y2 = bbox.astype(int)\n",
    "        img = cv2.rectangle(img, (x1, y1), (x2, y2), (0, 255, 0), thickness=4)\n",
    "    # img = cv2.circle(img, (int(keypoints[0][0]), int(keypoints[0][1])), radius=10, color=(0, 0, 255), thickness=-1) #Blue: Backtire\n",
    "    # img = cv2.circle(img, (int(keypoints[1][0]), int(keypoints[1][1])), radius=10, color=(255, 0, 0), thickness=-1) #Red Front tire\n",
    "    save_path = '/code/data/datasets/temp_imgs'\n",
    "    count += 1\n",
    "    filename = str(count) + \".jpg\"\n",
    "    cv2.imwrite(os.path.join(save_path, filename), img)\n"
   ]
  },
  {
   "cell_type": "code",
   "execution_count": null,
   "metadata": {},
   "outputs": [],
   "source": [
    "result"
   ]
  }
 ],
 "metadata": {
  "kernelspec": {
   "display_name": "Python 3.9.14 64-bit",
   "language": "python",
   "name": "python3"
  },
  "language_info": {
   "codemirror_mode": {
    "name": "ipython",
    "version": 3
   },
   "file_extension": ".py",
   "mimetype": "text/x-python",
   "name": "python",
   "nbconvert_exporter": "python",
   "pygments_lexer": "ipython3",
   "version": "3.9.14"
  },
  "orig_nbformat": 4,
  "vscode": {
   "interpreter": {
    "hash": "f9f85f796d01129d0dd105a088854619f454435301f6ffec2fea96ecbd9be4ac"
   }
  }
 },
 "nbformat": 4,
 "nbformat_minor": 2
}
