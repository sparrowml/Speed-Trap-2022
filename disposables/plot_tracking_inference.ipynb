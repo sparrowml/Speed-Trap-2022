{
 "cells": [
  {
   "cell_type": "code",
   "execution_count": 1,
   "metadata": {},
   "outputs": [],
   "source": [
    "from speed_trapv3.tracking.visualize import tracking\n",
    "import os"
   ]
  },
  {
   "cell_type": "code",
   "execution_count": 2,
   "metadata": {},
   "outputs": [
    {
     "name": "stderr",
     "output_type": "stream",
     "text": [
      "599it [03:03,  3.26it/s]\n"
     ]
    }
   ],
   "source": [
    "video_path = \"/code/data/datasets/common_hall/source_video/25_resampled_vid.mp4\"\n",
    "gz_path = \"/code/data/datasets/tracking/predictions/hard_coded/hard_coded_vehicle.json.gz\"\n",
    "output_path = \"/code/data/datasets/common_hall/tracking_output_videos/hardcoded.mp4\"\n",
    "assert os.path.isfile(video_path)\n",
    "tracking(\n",
    "    video_path,\n",
    "    gz_path,\n",
    "    output_path,\n",
    ")"
   ]
  },
  {
   "cell_type": "code",
   "execution_count": 3,
   "metadata": {},
   "outputs": [],
   "source": [
    "import imageio\n",
    "import os\n",
    "vid_path = \"/code/data/datasets/common_hall/source_video/25_resampled_vid.mp4\"\n",
    "# assert os.path.isfile(vid_path)\n",
    "reader = imageio.get_reader(vid_path)"
   ]
  }
 ],
 "metadata": {
  "kernelspec": {
   "display_name": "Python 3.9.14 64-bit",
   "language": "python",
   "name": "python3"
  },
  "language_info": {
   "codemirror_mode": {
    "name": "ipython",
    "version": 3
   },
   "file_extension": ".py",
   "mimetype": "text/x-python",
   "name": "python",
   "nbconvert_exporter": "python",
   "pygments_lexer": "ipython3",
   "version": "3.9.14"
  },
  "orig_nbformat": 4,
  "vscode": {
   "interpreter": {
    "hash": "f9f85f796d01129d0dd105a088854619f454435301f6ffec2fea96ecbd9be4ac"
   }
  }
 },
 "nbformat": 4,
 "nbformat_minor": 2
}
