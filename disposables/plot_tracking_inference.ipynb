{
 "cells": [
  {
   "cell_type": "code",
   "execution_count": 1,
   "metadata": {},
   "outputs": [],
   "source": [
    "from speed_trapv3.tracking.visualize import tracking\n",
    "import os"
   ]
  },
  {
   "cell_type": "code",
   "execution_count": 2,
   "metadata": {},
   "outputs": [
    {
     "ename": "ValueError",
     "evalue": "ImageIO does not generally support reading folders. Limited support may be available via specific plugins. Specify the plugin explicitly using the `plugin` kwarg, e.g. `plugin='DICOM'`",
     "output_type": "error",
     "traceback": [
      "\u001b[0;31m---------------------------------------------------------------------------\u001b[0m",
      "\u001b[0;31mValueError\u001b[0m                                Traceback (most recent call last)",
      "Cell \u001b[0;32mIn [2], line 5\u001b[0m\n\u001b[1;32m      3\u001b[0m output_path \u001b[39m=\u001b[39m \u001b[39m\"\u001b[39m\u001b[39m/code/data/datasets/common_hall/tracking_output_videos\u001b[39m\u001b[39m\"\u001b[39m\n\u001b[1;32m      4\u001b[0m \u001b[39massert\u001b[39;00m os\u001b[39m.\u001b[39mpath\u001b[39m.\u001b[39misfile(video_path)\n\u001b[0;32m----> 5\u001b[0m tracking(\n\u001b[1;32m      6\u001b[0m     video_path,\n\u001b[1;32m      7\u001b[0m     gz_path,\n\u001b[1;32m      8\u001b[0m     output_path,\n\u001b[1;32m      9\u001b[0m )\n",
      "File \u001b[0;32m/code/speed_trapv3/tracking/visualize.py:69\u001b[0m, in \u001b[0;36mtracking\u001b[0;34m(video_path_in, vehicle_boxes_path_in, output_path_in)\u001b[0m\n\u001b[1;32m     67\u001b[0m \u001b[39mif\u001b[39;00m vehicle_chunk\u001b[39m.\u001b[39mfps \u001b[39m!=\u001b[39m fps:\n\u001b[1;32m     68\u001b[0m     vehicle_chunk \u001b[39m=\u001b[39m vehicle_chunk\u001b[39m.\u001b[39mresample(fps)\n\u001b[0;32m---> 69\u001b[0m \u001b[39mwith\u001b[39;00m imageio\u001b[39m.\u001b[39;49mget_writer(\n\u001b[1;32m     70\u001b[0m     output_path_in, mode\u001b[39m=\u001b[39;49m\u001b[39m\"\u001b[39;49m\u001b[39mI\u001b[39;49m\u001b[39m\"\u001b[39;49m, fps\u001b[39m=\u001b[39;49mfps, macro_block_size\u001b[39m=\u001b[39;49m\u001b[39mNone\u001b[39;49;00m\n\u001b[1;32m     71\u001b[0m ) \u001b[39mas\u001b[39;00m writer:\n\u001b[1;32m     72\u001b[0m     \u001b[39mfor\u001b[39;00m img, vehicle_boxes \u001b[39min\u001b[39;00m tqdm(\u001b[39mzip\u001b[39m(reader, vehicle_chunk)):\n\u001b[1;32m     73\u001b[0m         boxes \u001b[39m=\u001b[39m \u001b[39mlist\u001b[39m(vehicle_boxes)\n",
      "File \u001b[0;32m/usr/local/lib/python3.9/dist-packages/imageio/v2.py:163\u001b[0m, in \u001b[0;36mget_writer\u001b[0;34m(uri, format, mode, **kwargs)\u001b[0m\n\u001b[1;32m    160\u001b[0m imopen_args \u001b[39m=\u001b[39m decypher_format_arg(\u001b[39mformat\u001b[39m)\n\u001b[1;32m    161\u001b[0m imopen_args[\u001b[39m\"\u001b[39m\u001b[39mlegacy_mode\u001b[39m\u001b[39m\"\u001b[39m] \u001b[39m=\u001b[39m \u001b[39mTrue\u001b[39;00m\n\u001b[0;32m--> 163\u001b[0m image_file \u001b[39m=\u001b[39m imopen(uri, \u001b[39m\"\u001b[39;49m\u001b[39mw\u001b[39;49m\u001b[39m\"\u001b[39;49m \u001b[39m+\u001b[39;49m mode, \u001b[39m*\u001b[39;49m\u001b[39m*\u001b[39;49mimopen_args)\n\u001b[1;32m    164\u001b[0m \u001b[39mreturn\u001b[39;00m image_file\u001b[39m.\u001b[39mlegacy_get_writer(\u001b[39m*\u001b[39m\u001b[39m*\u001b[39mkwargs)\n",
      "File \u001b[0;32m/usr/local/lib/python3.9/dist-packages/imageio/core/imopen.py:240\u001b[0m, in \u001b[0;36mimopen\u001b[0;34m(uri, io_mode, plugin, extension, format_hint, legacy_mode, **kwargs)\u001b[0m\n\u001b[1;32m    234\u001b[0m     err_type \u001b[39m=\u001b[39m \u001b[39mValueError\u001b[39;00m \u001b[39mif\u001b[39;00m legacy_mode \u001b[39melse\u001b[39;00m \u001b[39mIOError\u001b[39;00m\n\u001b[1;32m    235\u001b[0m     err_msg \u001b[39m=\u001b[39m (\n\u001b[1;32m    236\u001b[0m         \u001b[39m\"\u001b[39m\u001b[39mImageIO does not generally support reading folders. \u001b[39m\u001b[39m\"\u001b[39m\n\u001b[1;32m    237\u001b[0m         \u001b[39m\"\u001b[39m\u001b[39mLimited support may be available via specific plugins. \u001b[39m\u001b[39m\"\u001b[39m\n\u001b[1;32m    238\u001b[0m         \u001b[39m\"\u001b[39m\u001b[39mSpecify the plugin explicitly using the `plugin` kwarg, e.g. `plugin=\u001b[39m\u001b[39m'\u001b[39m\u001b[39mDICOM\u001b[39m\u001b[39m'\u001b[39m\u001b[39m`\u001b[39m\u001b[39m\"\u001b[39m\n\u001b[1;32m    239\u001b[0m     )\n\u001b[0;32m--> 240\u001b[0m     \u001b[39mraise\u001b[39;00m err_type(err_msg)\n\u001b[1;32m    242\u001b[0m \u001b[39m# close the current request here and use fresh/new ones while trying each\u001b[39;00m\n\u001b[1;32m    243\u001b[0m \u001b[39m# plugin This is slow (means potentially reopening a resource several\u001b[39;00m\n\u001b[1;32m    244\u001b[0m \u001b[39m# times), but should only happen rarely because this is the fallback if all\u001b[39;00m\n\u001b[1;32m    245\u001b[0m \u001b[39m# else fails.\u001b[39;00m\n\u001b[1;32m    246\u001b[0m request\u001b[39m.\u001b[39mfinish()\n",
      "\u001b[0;31mValueError\u001b[0m: ImageIO does not generally support reading folders. Limited support may be available via specific plugins. Specify the plugin explicitly using the `plugin` kwarg, e.g. `plugin='DICOM'`"
     ]
    }
   ],
   "source": [
    "video_path = \"/code/data/datasets/common_hall/source_video/25_resampled_vid.mp4\"\n",
    "gz_path = \"/code/data/datasets/tracking/predictions/hard_coded/hard_coded_vehicle.json.gz\"\n",
    "output_path = \"/code/data/datasets/common_hall/tracking_output_videos/hardcoded.mp4\"\n",
    "assert os.path.isfile(video_path)\n",
    "tracking(\n",
    "    video_path,\n",
    "    gz_path,\n",
    "    output_path,\n",
    ")"
   ]
  },
  {
   "cell_type": "code",
   "execution_count": null,
   "metadata": {},
   "outputs": [],
   "source": [
    "import imageio\n",
    "import os\n",
    "vid_path = \"/code/data/datasets/common_hall/source_video/25_resampled_vid.mp4\"\n",
    "# assert os.path.isfile(vid_path)\n",
    "reader = imageio.get_reader(vid_path)"
   ]
  }
 ],
 "metadata": {
  "kernelspec": {
   "display_name": "Python 3.9.14 64-bit",
   "language": "python",
   "name": "python3"
  },
  "language_info": {
   "codemirror_mode": {
    "name": "ipython",
    "version": 3
   },
   "file_extension": ".py",
   "mimetype": "text/x-python",
   "name": "python",
   "nbconvert_exporter": "python",
   "pygments_lexer": "ipython3",
   "version": "3.9.14"
  },
  "orig_nbformat": 4,
  "vscode": {
   "interpreter": {
    "hash": "f9f85f796d01129d0dd105a088854619f454435301f6ffec2fea96ecbd9be4ac"
   }
  }
 },
 "nbformat": 4,
 "nbformat_minor": 2
}
