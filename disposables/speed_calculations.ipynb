{
 "cells": [
  {
   "cell_type": "markdown",
   "metadata": {},
   "source": [
    "In this notebook, we explore the insights we can leverage to calculate the speed of each vehicle."
   ]
  },
  {
   "cell_type": "code",
   "execution_count": 2,
   "metadata": {},
   "outputs": [],
   "source": [
    "import json\n",
    "import numpy as np\n",
    "import matplotlib.pyplot as plt\n",
    "import cv2"
   ]
  },
  {
   "cell_type": "code",
   "execution_count": 3,
   "metadata": {},
   "outputs": [],
   "source": [
    "f = open(\"/code/data/datasets/common_hall/tracking_outputs/framewise_aggregation.json\")\n",
    "frame_to_predictions_map = json.load(f)\n",
    "f = open(\"/code/data/datasets/common_hall/tracking_outputs/objectwise_aggregation.json\")\n",
    "objects_to_predictions_map = json.load(f)['annotations'] #the object_id attribute of frame_to_predictions_map are the keys of object_to_predictions_map"
   ]
  },
  {
   "cell_type": "code",
   "execution_count": 4,
   "metadata": {},
   "outputs": [],
   "source": [
    "#get all the backtire keypoints for object 0\n",
    "tire_dict = {}\n",
    "for i in range(len(objects_to_predictions_map)):    \n",
    "    tire_dict[f'obj_{i}_back_x'] = []\n",
    "    tire_dict[f'obj_{i}_back_y'] = []\n",
    "    tire_dict[f'obj_{i}_front_x'] = []\n",
    "    tire_dict[f'obj_{i}_front_y'] = []\n",
    "col_names = list(tire_dict.keys())"
   ]
  },
  {
   "cell_type": "code",
   "execution_count": 5,
   "metadata": {},
   "outputs": [],
   "source": [
    "for i in range(len(objects_to_predictions_map)):    \n",
    "    object_start, object_end = objects_to_predictions_map[i]['segments'][0]#[0] to get inside the list with only a single element.\n",
    "    for frame_idx in range(object_start, object_end):\n",
    "        tire_dict[f'obj_{i}_back_x'].append(frame_to_predictions_map[frame_idx]['annotations'][0]['keypoints'][0][0])\n",
    "        tire_dict[f'obj_{i}_back_y'].append(frame_to_predictions_map[frame_idx]['annotations'][0]['keypoints'][0][1])\n",
    "        tire_dict[f'obj_{i}_front_x'].append(frame_to_predictions_map[frame_idx]['annotations'][0]['keypoints'][1][0])\n",
    "        tire_dict[f'obj_{i}_front_y'].append(frame_to_predictions_map[frame_idx]['annotations'][0]['keypoints'][1][1])\n",
    "\n",
    "        \n"
   ]
  },
  {
   "cell_type": "code",
   "execution_count": null,
   "metadata": {},
   "outputs": [],
   "source": [
    "# object_back_tires = []\n",
    "# object_front_tires = []\n",
    "# for frame_idx in range(object_0_start, object_0_end):\n",
    "#     object_0_back_tires.append(frame_to_predictions_map[frame_idx]['annotations'][0]['keypoints'][0])#zeros have nothing to do with object index\n",
    "#     object_0_front_tires.append(frame_to_predictions_map[frame_idx]['annotations'][0]['keypoints'][1])"
   ]
  },
  {
   "cell_type": "code",
   "execution_count": null,
   "metadata": {},
   "outputs": [],
   "source": [
    "img = cv2.imread('/code/data/datasets/images/WBuBqS9h8_216.jpg')\n",
    "# plt.figure()\n",
    "# plt.imshow(img)"
   ]
  },
  {
   "cell_type": "code",
   "execution_count": null,
   "metadata": {},
   "outputs": [],
   "source": [
    "def draw_poly(_img, _pts, _color):\n",
    "    pts = _pts\n",
    "    pts = pts.reshape((-1, 1, 2))\n",
    "    \n",
    "    isClosed = False\n",
    "    \n",
    "    # Blue color in BGR\n",
    "    color = _color\n",
    "    \n",
    "    # Line thickness of 2 px\n",
    "    thickness = 2\n",
    "    \n",
    "    # Using cv2.polylines() method\n",
    "    # Draw a Blue polygon with\n",
    "    # thickness of 1 px\n",
    "    return cv2.polylines(_img, [pts],\n",
    "                        isClosed, color, thickness)\n"
   ]
  },
  {
   "cell_type": "code",
   "execution_count": null,
   "metadata": {},
   "outputs": [],
   "source": [
    "back = draw_poly(img, np.array(object_0_back_tires).astype(int), (0, 0, 255))\n",
    "plt.figure()\n",
    "plt.imshow(back)"
   ]
  },
  {
   "cell_type": "code",
   "execution_count": null,
   "metadata": {},
   "outputs": [],
   "source": [
    "front = draw_poly(back, np.array(object_0_front_tires).astype(int),(255, 0, 0))\n",
    "plt.figure()\n",
    "plt.imshow(front)"
   ]
  },
  {
   "cell_type": "code",
   "execution_count": 1,
   "metadata": {},
   "outputs": [
    {
     "ename": "NameError",
     "evalue": "name 'plt' is not defined",
     "output_type": "error",
     "traceback": [
      "\u001b[0;31m---------------------------------------------------------------------------\u001b[0m",
      "\u001b[0;31mNameError\u001b[0m                                 Traceback (most recent call last)",
      "Cell \u001b[0;32mIn [1], line 1\u001b[0m\n\u001b[0;32m----> 1\u001b[0m plt\u001b[39m.\u001b[39mfigure\n\u001b[1;32m      2\u001b[0m plt\u001b[39m.\u001b[39mxlabel(\u001b[39m\"\u001b[39m\u001b[39mFrame Index of the Video Clip\u001b[39m\u001b[39m\"\u001b[39m)\n\u001b[1;32m      3\u001b[0m plt\u001b[39m.\u001b[39mylabel(\u001b[39m\"\u001b[39m\u001b[39mTire Position\u001b[39m\u001b[39m\"\u001b[39m)\n",
      "\u001b[0;31mNameError\u001b[0m: name 'plt' is not defined"
     ]
    }
   ],
   "source": [
    "plt.figure\n",
    "plt.xlabel(\"Frame Index of the Video Clip\")\n",
    "plt.ylabel(\"Tire Position\")\n",
    "position_x = col_names[0]\n",
    "position_y = col_names[1]\n",
    "plt.scatter(range(len(tire_dict[position_x])),tire_dict[position_x],color='green')\n",
    "plt.scatter(range(len(tire_dict[position_y])),tire_dict[position_y],color='purple')"
   ]
  }
 ],
 "metadata": {
  "kernelspec": {
   "display_name": "Python 3.9.14 64-bit",
   "language": "python",
   "name": "python3"
  },
  "language_info": {
   "codemirror_mode": {
    "name": "ipython",
    "version": 3
   },
   "file_extension": ".py",
   "mimetype": "text/x-python",
   "name": "python",
   "nbconvert_exporter": "python",
   "pygments_lexer": "ipython3",
   "version": "3.9.14"
  },
  "orig_nbformat": 4,
  "vscode": {
   "interpreter": {
    "hash": "f9f85f796d01129d0dd105a088854619f454435301f6ffec2fea96ecbd9be4ac"
   }
  }
 },
 "nbformat": 4,
 "nbformat_minor": 2
}
