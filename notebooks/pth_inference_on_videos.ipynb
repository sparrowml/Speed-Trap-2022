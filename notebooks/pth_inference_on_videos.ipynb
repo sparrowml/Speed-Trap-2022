{
 "cells": [
  {
   "cell_type": "code",
   "execution_count": 1,
   "metadata": {},
   "outputs": [
    {
     "name": "stderr",
     "output_type": "stream",
     "text": [
      "/usr/local/lib/python3.9/dist-packages/tqdm/auto.py:22: TqdmWarning: IProgress not found. Please update jupyter and ipywidgets. See https://ipywidgets.readthedocs.io/en/stable/user_install.html\n",
      "  from .autonotebook import tqdm as notebook_tqdm\n",
      "/usr/lib/python3/dist-packages/requests/__init__.py:89: RequestsDependencyWarning: urllib3 (1.26.12) or chardet (3.0.4) doesn't match a supported version!\n",
      "  warnings.warn(\"urllib3 ({}) or chardet ({}) doesn't match a supported \"\n"
     ]
    }
   ],
   "source": [
    "from speed_trapv3.keypoints.model import SegmentationModel\n",
    "from speed_trapv3.detection.model import RetinaNet\n",
    "from speed_trapv3.detection.config import Config as DetConfig\n",
    "from speed_trapv3.keypoints.config import Config as KeyConfig\n",
    "from speed_trapv3.tracking.config import Config as TrackConfig\n",
    "from speed_trapv3.config import Config\n",
    "from speed_trapv3.utils import slugify, get_prediction_path\n",
    "from pathlib import Path\n",
    "import random\n",
    "from tqdm import tqdm\n",
    "import imageio\n",
    "from speed_trapv3.keypoints.dataset import crop_and_resize,process_keypoints, keypoints_post_inference_processing\n",
    "import numpy as np\n",
    "import torchvision.transforms as T\n",
    "import torch\n",
    "import cv2\n",
    "import os\n",
    "import copy\n",
    "import json\n",
    "from speed_trapv3.tracking.tracking import get_video_properties, transform_image, write_to_json#, get_frame_box\n",
    "from sparrow_tracky import Tracker, euclidean_distance\n",
    "from sparrow_datums import AugmentedBoxTracking, BoxTracking, FrameBoxes, PType"
   ]
  },
  {
   "cell_type": "code",
   "execution_count": 2,
   "metadata": {},
   "outputs": [],
   "source": [
    "def get_box_properties(box_in):\n",
    "    \"\"\"Split the augmented box into numpy arrays.\n",
    "    Args:\n",
    "        box_in (FrameAugmentedBoxes): FrameAugmentedBoxes produced by the model.\n",
    "    Returns:\n",
    "        tuple: A tuple of three numpy arrays.\n",
    "    \"\"\"\n",
    "    box = box_in\n",
    "    labels = box.labels\n",
    "    scores = box.scores\n",
    "    box = box.array[:, 0: 4]\n",
    "    return (box, scores, labels)"
   ]
  },
  {
   "cell_type": "code",
   "execution_count": 3,
   "metadata": {},
   "outputs": [],
   "source": [
    "def make_path(path_in):\n",
    "    \"\"\"Check if a given path exists and make one if it doesn't.\n",
    "\n",
    "    Args:\n",
    "        path_in (str): _description_ Input path that might need to be created.\n",
    "    \"\"\"\n",
    "    if not os.path.exists(path_in):\n",
    "        os.mkdir(path_in)"
   ]
  },
  {
   "cell_type": "code",
   "execution_count": 4,
   "metadata": {},
   "outputs": [],
   "source": [
    "video_path = \"/code/data/datasets/common_hall/source_video/25_resampled_vid.mp4\"\n",
    "model_path = \"/code/data/models/detection/model.pth\"\n",
    "temp_save_path = \"/code/data/datasets/temp_imgs\""
   ]
  },
  {
   "cell_type": "code",
   "execution_count": 5,
   "metadata": {},
   "outputs": [],
   "source": [
    "detection_model = RetinaNet().eval().cuda()\n",
    "detection_model.load(DetConfig.trained_model_path)"
   ]
  },
  {
   "cell_type": "code",
   "execution_count": 6,
   "metadata": {},
   "outputs": [
    {
     "name": "stderr",
     "output_type": "stream",
     "text": [
      "  0%|          | 0/599 [00:00<?, ?it/s]/usr/local/lib/python3.9/dist-packages/torch/functional.py:445: UserWarning: torch.meshgrid: in an upcoming release, it will be required to pass the indexing argument. (Triggered internally at  ../aten/src/ATen/native/TensorShape.cpp:2157.)\n",
      "  return _VF.meshgrid(tensors, **kwargs)  # type: ignore[attr-defined]\n",
      "100%|██████████| 599/599 [01:01<00:00,  9.81it/s]\n"
     ]
    }
   ],
   "source": [
    "fps, n_frames = get_video_properties(video_path)\n",
    "reader = imageio.get_reader(video_path)\n",
    "vehicle_tracker = Tracker(TrackConfig.vehicle_iou_threshold)\n",
    "slug = \"hard_coded\"\n",
    "for i in tqdm(range(n_frames)):\n",
    "    data = reader.get_data(i)\n",
    "    data = cv2.rectangle(\n",
    "        data, (450, 200), (1280, 720), thickness=5, color=(0, 255, 0)\n",
    "    )\n",
    "    # img = imageio.imread(image_path)\n",
    "    img_h, img_w, _ = data.shape\n",
    "    aug_boxes = detection_model(data)\n",
    "    aug_boxes = aug_boxes[aug_boxes.scores > TrackConfig.vehicle_score_threshold]\n",
    "    boxes = aug_boxes.array[:,:4]\n",
    "    vehicle_boxes = FrameBoxes(\n",
    "    boxes,\n",
    "    PType.absolute_tlbr,  # (x1, y1, x2, y2) in absolute pixel coordinates [With respect to the original image size]\n",
    "    image_width=data.shape[1],\n",
    "    image_height=data.shape[0],\n",
    "    ).to_relative()  \n",
    "    vehicle_tracker.track(vehicle_boxes)\n",
    "make_path(str(TrackConfig.prediction_directory / slug))\n",
    "vehicle_chunk = vehicle_tracker.make_chunk(fps, TrackConfig.vehicle_tracklet_length)\n",
    "vehicle_chunk.to_file(\n",
    "    TrackConfig.prediction_directory / slug / f\"{slug}_vehicle.json.gz\"\n",
    "    )\n",
    "    # for box in boxes:\n",
    "    #     x1, y1, x2, y2 = (box * np.array([img_w, img_h, img_w, img_h])).astype(int)\n",
    "    #     data = cv2.rectangle(data, (x1, y1), (x2, y2), (255, 0, 255), thickness=4)\n",
    "    # im_rgb = cv2.cvtColor(data, cv2.COLOR_BGR2RGB)\n",
    "    # save_path = '/code/data/datasets/temp_imgs'\n",
    "    # filename = str(i) + \".jpg\"\n",
    "    # cv2.imwrite(os.path.join(save_path, filename), im_rgb)"
   ]
  },
  {
   "cell_type": "code",
   "execution_count": 3,
   "metadata": {},
   "outputs": [
    {
     "ename": "IsADirectoryError",
     "evalue": "[Errno 21] Is a directory: '/code/data/datasets/tracking/predictions/hard_coded'",
     "output_type": "error",
     "traceback": [
      "\u001b[0;31m---------------------------------------------------------------------------\u001b[0m",
      "\u001b[0;31mIsADirectoryError\u001b[0m                         Traceback (most recent call last)",
      "Cell \u001b[0;32mIn [3], line 5\u001b[0m\n\u001b[1;32m      3\u001b[0m gz_path \u001b[39m=\u001b[39m Path(\u001b[39m\"\u001b[39m\u001b[39m/code/data/datasets/tracking/predictions/hard_coded\u001b[39m\u001b[39m\"\u001b[39m)\n\u001b[1;32m      4\u001b[0m video_path \u001b[39m=\u001b[39m \u001b[39m\"\u001b[39m\u001b[39m/code/data/datasets/common_hall/source_video/25_resampled_vid.mp4\u001b[39m\u001b[39m\"\u001b[39m\n\u001b[0;32m----> 5\u001b[0m write_to_json(gz_path, video_path)\n",
      "File \u001b[0;32m/code/speed_trapv3/tracking/tracking.py:135\u001b[0m, in \u001b[0;36mwrite_to_json\u001b[0;34m(chunk_path_in, video_path_in)\u001b[0m\n\u001b[1;32m    133\u001b[0m filename \u001b[39m=\u001b[39m slug\n\u001b[1;32m    134\u001b[0m video_path \u001b[39m=\u001b[39m video_path_in\n\u001b[0;32m--> 135\u001b[0m chunk \u001b[39m=\u001b[39m BoxTracking\u001b[39m.\u001b[39;49mfrom_file(chunk_path)\u001b[39m.\u001b[39mto_absolute()\u001b[39m.\u001b[39mto_tlwh()\n\u001b[1;32m    136\u001b[0m aug_box \u001b[39m=\u001b[39m AugmentedBoxTracking\u001b[39m.\u001b[39mfrom_box_tracking(chunk)\n\u001b[1;32m    137\u001b[0m aug_box\u001b[39m.\u001b[39mto_darwin_file(\n\u001b[1;32m    138\u001b[0m     output_path\u001b[39m=\u001b[39mConfig\u001b[39m.\u001b[39mprediction_directory \u001b[39m/\u001b[39m \u001b[39mf\u001b[39m\u001b[39m\"\u001b[39m\u001b[39m{\u001b[39;00mslug\u001b[39m}\u001b[39;00m\u001b[39m.json\u001b[39m\u001b[39m\"\u001b[39m,\n\u001b[1;32m    139\u001b[0m     filename\u001b[39m=\u001b[39mfilename,\n\u001b[1;32m    140\u001b[0m     label_names\u001b[39m=\u001b[39m[\u001b[39m\"\u001b[39m\u001b[39mvehicle\u001b[39m\u001b[39m\"\u001b[39m],\n\u001b[1;32m    141\u001b[0m )\n",
      "File \u001b[0;32m/usr/local/lib/python3.9/dist-packages/sparrow_datums/chunk.py:186\u001b[0m, in \u001b[0;36mChunk.from_file\u001b[0;34m(cls, path)\u001b[0m\n\u001b[1;32m    183\u001b[0m \u001b[39m@classmethod\u001b[39m\n\u001b[1;32m    184\u001b[0m \u001b[39mdef\u001b[39;00m \u001b[39mfrom_file\u001b[39m(\u001b[39mcls\u001b[39m: \u001b[39mtype\u001b[39m[T], path: \u001b[39mstr\u001b[39m \u001b[39m|\u001b[39m Path) \u001b[39m-\u001b[39m\u001b[39m>\u001b[39m T:\n\u001b[1;32m    185\u001b[0m     \u001b[39m\"\"\"Read chunk from disk.\"\"\"\u001b[39;00m\n\u001b[0;32m--> 186\u001b[0m     \u001b[39mwith\u001b[39;00m gzip\u001b[39m.\u001b[39;49mopen(path, \u001b[39m\"\u001b[39;49m\u001b[39mrt\u001b[39;49m\u001b[39m\"\u001b[39;49m) \u001b[39mas\u001b[39;00m f:\n\u001b[1;32m    187\u001b[0m         \u001b[39mreturn\u001b[39;00m \u001b[39mcls\u001b[39m\u001b[39m.\u001b[39mfrom_dict(json\u001b[39m.\u001b[39mloads(f\u001b[39m.\u001b[39mread()))\n",
      "File \u001b[0;32m/usr/lib/python3.9/gzip.py:58\u001b[0m, in \u001b[0;36mopen\u001b[0;34m(filename, mode, compresslevel, encoding, errors, newline)\u001b[0m\n\u001b[1;32m     56\u001b[0m gz_mode \u001b[39m=\u001b[39m mode\u001b[39m.\u001b[39mreplace(\u001b[39m\"\u001b[39m\u001b[39mt\u001b[39m\u001b[39m\"\u001b[39m, \u001b[39m\"\u001b[39m\u001b[39m\"\u001b[39m)\n\u001b[1;32m     57\u001b[0m \u001b[39mif\u001b[39;00m \u001b[39misinstance\u001b[39m(filename, (\u001b[39mstr\u001b[39m, \u001b[39mbytes\u001b[39m, os\u001b[39m.\u001b[39mPathLike)):\n\u001b[0;32m---> 58\u001b[0m     binary_file \u001b[39m=\u001b[39m GzipFile(filename, gz_mode, compresslevel)\n\u001b[1;32m     59\u001b[0m \u001b[39melif\u001b[39;00m \u001b[39mhasattr\u001b[39m(filename, \u001b[39m\"\u001b[39m\u001b[39mread\u001b[39m\u001b[39m\"\u001b[39m) \u001b[39mor\u001b[39;00m \u001b[39mhasattr\u001b[39m(filename, \u001b[39m\"\u001b[39m\u001b[39mwrite\u001b[39m\u001b[39m\"\u001b[39m):\n\u001b[1;32m     60\u001b[0m     binary_file \u001b[39m=\u001b[39m GzipFile(\u001b[39mNone\u001b[39;00m, gz_mode, compresslevel, filename)\n",
      "File \u001b[0;32m/usr/lib/python3.9/gzip.py:173\u001b[0m, in \u001b[0;36mGzipFile.__init__\u001b[0;34m(self, filename, mode, compresslevel, fileobj, mtime)\u001b[0m\n\u001b[1;32m    171\u001b[0m     mode \u001b[39m+\u001b[39m\u001b[39m=\u001b[39m \u001b[39m'\u001b[39m\u001b[39mb\u001b[39m\u001b[39m'\u001b[39m\n\u001b[1;32m    172\u001b[0m \u001b[39mif\u001b[39;00m fileobj \u001b[39mis\u001b[39;00m \u001b[39mNone\u001b[39;00m:\n\u001b[0;32m--> 173\u001b[0m     fileobj \u001b[39m=\u001b[39m \u001b[39mself\u001b[39m\u001b[39m.\u001b[39mmyfileobj \u001b[39m=\u001b[39m builtins\u001b[39m.\u001b[39;49mopen(filename, mode \u001b[39mor\u001b[39;49;00m \u001b[39m'\u001b[39;49m\u001b[39mrb\u001b[39;49m\u001b[39m'\u001b[39;49m)\n\u001b[1;32m    174\u001b[0m \u001b[39mif\u001b[39;00m filename \u001b[39mis\u001b[39;00m \u001b[39mNone\u001b[39;00m:\n\u001b[1;32m    175\u001b[0m     filename \u001b[39m=\u001b[39m \u001b[39mgetattr\u001b[39m(fileobj, \u001b[39m'\u001b[39m\u001b[39mname\u001b[39m\u001b[39m'\u001b[39m, \u001b[39m'\u001b[39m\u001b[39m'\u001b[39m)\n",
      "\u001b[0;31mIsADirectoryError\u001b[0m: [Errno 21] Is a directory: '/code/data/datasets/tracking/predictions/hard_coded'"
     ]
    }
   ],
   "source": [
    "from speed_trapv3.tracking.tracking import get_video_properties, transform_image, write_to_json\n",
    "from pathlib import Path\n",
    "gz_path = Path(\"/code/data/datasets/tracking/predictions/hard_coded/hard_coded_vehicle.json.gz\")\n",
    "video_path = \"/code/data/datasets/common_hall/source_video/25_resampled_vid.mp4\"\n",
    "write_to_json(gz_path, video_path)"
   ]
  }
 ],
 "metadata": {
  "kernelspec": {
   "display_name": "Python 3.9.14 64-bit",
   "language": "python",
   "name": "python3"
  },
  "language_info": {
   "codemirror_mode": {
    "name": "ipython",
    "version": 3
   },
   "file_extension": ".py",
   "mimetype": "text/x-python",
   "name": "python",
   "nbconvert_exporter": "python",
   "pygments_lexer": "ipython3",
   "version": "3.9.14"
  },
  "orig_nbformat": 4,
  "vscode": {
   "interpreter": {
    "hash": "f9f85f796d01129d0dd105a088854619f454435301f6ffec2fea96ecbd9be4ac"
   }
  }
 },
 "nbformat": 4,
 "nbformat_minor": 2
}
