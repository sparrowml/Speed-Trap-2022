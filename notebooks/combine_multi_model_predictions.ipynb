{
 "cells": [
  {
   "cell_type": "markdown",
   "metadata": {},
   "source": [
    "Combine the detection bounding boxes and keypoints predictions amd save them."
   ]
  },
  {
   "cell_type": "code",
   "execution_count": null,
   "metadata": {},
   "outputs": [],
   "source": [
    "from speed_trapv3.keypoints.model import SegmentationModel\n",
    "from speed_trapv3.detection.model import RetinaNet\n",
    "from speed_trapv3.detection.config import Config as DetConfig\n",
    "from speed_trapv3.keypoints.config import Config as KeyConfig\n",
    "from speed_trapv3.config import Config\n",
    "from speed_trapv3.utils import slugify, get_prediction_path\n",
    "from pathlib import Path\n",
    "import random\n",
    "from tqdm import tqdm\n",
    "import imageio\n",
    "from speed_trapv3.keypoints.dataset import crop_and_resize,process_keypoints, keypoints_post_inference_processing\n",
    "import numpy as np\n",
    "import torchvision.transforms as T\n",
    "import torch\n",
    "import cv2\n",
    "import os\n",
    "import copy\n",
    "import json"
   ]
  },
  {
   "cell_type": "code",
   "execution_count": null,
   "metadata": {},
   "outputs": [],
   "source": [
    "multi_model_path = \"/code/data/datasets/common_hall/detection-keypoint-inference\"\n",
    "existing_list = os.listdir(\"/root/.darwin/datasets/sparrow-computing/kj_speedtrap/releases/allv1/annotations\")\n",
    "detection_annotation_files = os.listdir(DetConfig.predictions_directory)\n",
    "for detection_annotation_file in detection_annotation_files:\n",
    "    if detection_annotation_file not in existing_list:\n",
    "        detection_file = open(DetConfig.predictions_directory/detection_annotation_file)\n",
    "        detection_annotation_content = json.load(detection_file)\n",
    "        if (KeyConfig.predictions_directory/detection_annotation_file).exists():\n",
    "            keypoint_file = open(KeyConfig.predictions_directory/detection_annotation_file)\n",
    "            keypoint_annotation_content = json.load(keypoint_file)\n",
    "            for key_pair in keypoint_annotation_content:\n",
    "                for idx, tire in enumerate(KeyConfig.keypoint_names):\n",
    "                    key_dict = {}\n",
    "                    x, y = key_pair[idx]\n",
    "                    key_dict[\"name\"] =  tire\n",
    "                    key_dict[\"keypoint\"] = {\n",
    "                        \"x\": x, \"y\":y\n",
    "                    }\n",
    "                    detection_annotation_content['annotations'].append(key_dict)\n",
    "        if len(detection_annotation_content[\"annotations\"]) > 0:\n",
    "            with open(Path(multi_model_path)/detection_annotation_file, \"w\") as f:\n",
    "                f.write(json.dumps(detection_annotation_content))\n",
    "        else:\n",
    "            print(detection_annotation_file, \"Did not have any predictions\")"
   ]
  }
 ],
 "metadata": {
  "kernelspec": {
   "display_name": "Python 3.9.14 64-bit",
   "language": "python",
   "name": "python3"
  },
  "language_info": {
   "name": "python",
   "version": "3.9.14"
  },
  "orig_nbformat": 4,
  "vscode": {
   "interpreter": {
    "hash": "f9f85f796d01129d0dd105a088854619f454435301f6ffec2fea96ecbd9be4ac"
   }
  }
 },
 "nbformat": 4,
 "nbformat_minor": 2
}
