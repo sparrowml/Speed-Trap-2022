{
 "cells": [
  {
   "cell_type": "code",
   "execution_count": 1,
   "metadata": {},
   "outputs": [
    {
     "name": "stderr",
     "output_type": "stream",
     "text": [
      "/usr/local/lib/python3.9/dist-packages/tqdm/auto.py:22: TqdmWarning: IProgress not found. Please update jupyter and ipywidgets. See https://ipywidgets.readthedocs.io/en/stable/user_install.html\n",
      "  from .autonotebook import tqdm as notebook_tqdm\n",
      "/usr/lib/python3/dist-packages/requests/__init__.py:89: RequestsDependencyWarning: urllib3 (1.26.12) or chardet (3.0.4) doesn't match a supported version!\n",
      "  warnings.warn(\"urllib3 ({}) or chardet ({}) doesn't match a supported \"\n"
     ]
    }
   ],
   "source": [
    "from speed_trapv3.keypoints.model import SegmentationModel\n",
    "from speed_trapv3.detection.model import RetinaNet\n",
    "from speed_trapv3.detection.config import Config as DetConfig\n",
    "from speed_trapv3.keypoints.config import Config as KeyConfig\n",
    "from speed_trapv3.tracking.config import Config as TrackConfig\n",
    "from speed_trapv3.config import Config\n",
    "from speed_trapv3.utils import slugify, get_prediction_path\n",
    "from pathlib import Path\n",
    "import random\n",
    "from tqdm import tqdm\n",
    "import imageio\n",
    "from speed_trapv3.keypoints.dataset import crop_and_resize,process_keypoints, keypoints_post_inference_processing\n",
    "import numpy as np\n",
    "import torchvision.transforms as T\n",
    "import torch\n",
    "import cv2\n",
    "import os\n",
    "import copy\n",
    "import json\n",
    "from speed_trapv3.tracking.tracking import get_video_properties, transform_image, write_to_json#, get_frame_box\n",
    "from sparrow_tracky import Tracker, euclidean_distance, compute_moda_by_class, compute_moda\n",
    "from sparrow_datums import AugmentedBoxTracking, BoxTracking, FrameBoxes, PType\n",
    "from operator import itemgetter"
   ]
  },
  {
   "cell_type": "code",
   "execution_count": 2,
   "metadata": {},
   "outputs": [],
   "source": [
    "from speed_trapv3.detection.config import Config\n",
    "from speed_trapv3.detection.dataset import RetinaNetDataset\n",
    "from speed_trapv3.detection.model import RetinaNet\n",
    "from speed_trapv3.utils import Holdout, batch_moda, result_to_boxes"
   ]
  },
  {
   "cell_type": "code",
   "execution_count": 3,
   "metadata": {},
   "outputs": [],
   "source": [
    "detection_model = RetinaNet().eval().cuda()\n",
    "detection_model.load(DetConfig.trained_model_path)"
   ]
  },
  {
   "cell_type": "code",
   "execution_count": 4,
   "metadata": {},
   "outputs": [],
   "source": [
    "test_dataset = RetinaNetDataset(Holdout.TEST)"
   ]
  },
  {
   "cell_type": "code",
   "execution_count": 5,
   "metadata": {},
   "outputs": [],
   "source": [
    "test_dataloader = torch.utils.data.DataLoader(test_dataset, batch_size=1, shuffle=False)"
   ]
  },
  {
   "cell_type": "code",
   "execution_count": 6,
   "metadata": {},
   "outputs": [
    {
     "name": "stdout",
     "output_type": "stream",
     "text": [
      "dict_keys(['image', 'boxes', 'labels'])\n"
     ]
    }
   ],
   "source": [
    "for batch in iter(test_dataloader):\n",
    "    x = batch['image']\n",
    "print(batch.keys())"
   ]
  },
  {
   "cell_type": "code",
   "execution_count": 7,
   "metadata": {},
   "outputs": [
    {
     "name": "stderr",
     "output_type": "stream",
     "text": [
      "/usr/local/lib/python3.9/dist-packages/torch/functional.py:445: UserWarning: torch.meshgrid: in an upcoming release, it will be required to pass the indexing argument. (Triggered internally at  ../aten/src/ATen/native/TensorShape.cpp:2157.)\n",
      "  return _VF.meshgrid(tensors, **kwargs)  # type: ignore[attr-defined]\n"
     ]
    }
   ],
   "source": [
    "moda = 0\n",
    "count = 0\n",
    "for batch in iter(test_dataloader):\n",
    "    x = batch['image']\n",
    "    x = x.cuda()\n",
    "    sample = {'boxes':batch['boxes'][0], 'labels':batch['labels'][0]}\n",
    "    result = detection_model(x)[0]\n",
    "    predicted_boxes = result_to_boxes(result)\n",
    "    predicted_boxes = predicted_boxes[predicted_boxes.scores > DetConfig.score_threshold]\n",
    "    ground_truth_boxes = result_to_boxes(sample)\n",
    "    #Enable this line to calculate classwise.\n",
    "    # moda_dict = compute_moda_by_class(predicted_boxes, ground_truth_boxes)\n",
    "    # moda += sum(moda_dict.values())\n",
    "    frame_moda = compute_moda(predicted_boxes, ground_truth_boxes)\n",
    "    moda += frame_moda.value\n",
    "    count += 1"
   ]
  },
  {
   "cell_type": "code",
   "execution_count": 12,
   "metadata": {},
   "outputs": [
    {
     "name": "stdout",
     "output_type": "stream",
     "text": [
      "Based on 43 test examples, the Multiple Object Detection Accuracy is 98.06201550387595%.\n",
      "That means that the detection model can draw a bounding box around every vehicle with 98.06201550387595% accuracy.\n"
     ]
    }
   ],
   "source": [
    "print(f\"Based on {count} test examples, the Multiple Object Detection Accuracy is {100 * moda/count}%.\")\n",
    "print(f\"That means that the detection model can draw a bounding box around every vehicle with {100 * moda/count}% accuracy.\")"
   ]
  }
 ],
 "metadata": {
  "kernelspec": {
   "display_name": "Python 3.9.14 64-bit",
   "language": "python",
   "name": "python3"
  },
  "language_info": {
   "codemirror_mode": {
    "name": "ipython",
    "version": 3
   },
   "file_extension": ".py",
   "mimetype": "text/x-python",
   "name": "python",
   "nbconvert_exporter": "python",
   "pygments_lexer": "ipython3",
   "version": "3.9.14"
  },
  "orig_nbformat": 4,
  "vscode": {
   "interpreter": {
    "hash": "36cf16204b8548560b1c020c4e8fb5b57f0e4c58016f52f2d4be01e192833930"
   }
  }
 },
 "nbformat": 4,
 "nbformat_minor": 2
}
