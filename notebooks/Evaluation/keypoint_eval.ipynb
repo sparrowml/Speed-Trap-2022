{
 "cells": [
  {
   "cell_type": "code",
   "execution_count": 13,
   "metadata": {},
   "outputs": [],
   "source": [
    "import csv\n",
    "from pathlib import Path\n",
    "import cv2\n",
    "import imageio\n",
    "import imageio_ffmpeg\n",
    "import numpy as np\n",
    "import onnxruntime as ort\n",
    "import torch\n",
    "import os\n",
    "import torchvision.transforms as T\n",
    "from PIL import Image\n",
    "from sparrow_datums import BoxTracking\n",
    "from tqdm import tqdm\n",
    "from torch.utils.data import DataLoader\n",
    "from speed_trapv3.keypoints.dataset import SegmentationDataset\n",
    "from speed_trapv3.keypoints.utils import Holdout\n",
    "import matplotlib.pyplot as plt\n",
    "from speed_trapv3.keypoints.model import SegmentationModel\n",
    "from speed_trapv3.keypoints.config import Config\n",
    "import matplotlib.pyplot as plt\n",
    "\n"
   ]
  },
  {
   "cell_type": "code",
   "execution_count": 14,
   "metadata": {},
   "outputs": [],
   "source": [
    "data = SegmentationDataset(Holdout.TEST)\n",
    "test_dataloader = DataLoader(data, batch_size=1, shuffle=False)"
   ]
  },
  {
   "cell_type": "code",
   "execution_count": 15,
   "metadata": {},
   "outputs": [
    {
     "data": {
      "text/plain": [
       "<All keys matched successfully>"
      ]
     },
     "execution_count": 15,
     "metadata": {},
     "output_type": "execute_result"
    }
   ],
   "source": [
    "model = SegmentationModel().eval().cuda()\n",
    "model.load(Config.trained_model_path)"
   ]
  },
  {
   "cell_type": "code",
   "execution_count": 16,
   "metadata": {},
   "outputs": [],
   "source": [
    "overall_rel_error = 0\n",
    "count = 0\n",
    "for batch in iter(test_dataloader):\n",
    "    x = batch['image']\n",
    "    x = x.cuda()\n",
    "    result = model(x)\n",
    "    relative_error = torch.norm(\n",
    "        batch[\"keypoints\"].cuda() - result[\"keypoints\"].cuda()\n",
    "    ) / torch.norm(batch[\"keypoints\"].cuda())\n",
    "    overall_rel_error += relative_error\n",
    "    count += 1\n"
   ]
  },
  {
   "cell_type": "code",
   "execution_count": 17,
   "metadata": {},
   "outputs": [],
   "source": [
    "overall_rel_error = overall_rel_error.detach().cpu().numpy()/ count"
   ]
  },
  {
   "cell_type": "code",
   "execution_count": 18,
   "metadata": {},
   "outputs": [
    {
     "name": "stdout",
     "output_type": "stream",
     "text": [
      "The relative error of the test set is 20.193108759428323%\n",
      "Relative error is the ratio of the magnitude of the difference between groundtruth and prediction compared to the magnitude of the ground truth.\n",
      "That means that for every groundtruth with a magnitude of 100 units, there is an error of 20 units in the corresponding prediction.\n"
     ]
    }
   ],
   "source": [
    "print(f\"The relative error of the test set is {overall_rel_error * 100}%.\")\n",
    "print(\"Relative error is the ratio of the magnitude of the difference between groundtruth and prediction compared to the magnitude of the ground truth.\")\n",
    "print(\"That means that for every groundtruth with a magnitude of 100 units, there is an error of 20 units in the corresponding prediction.\")"
   ]
  }
 ],
 "metadata": {
  "kernelspec": {
   "display_name": "Python 3.9.14 64-bit",
   "language": "python",
   "name": "python3"
  },
  "language_info": {
   "codemirror_mode": {
    "name": "ipython",
    "version": 3
   },
   "file_extension": ".py",
   "mimetype": "text/x-python",
   "name": "python",
   "nbconvert_exporter": "python",
   "pygments_lexer": "ipython3",
   "version": "3.9.14"
  },
  "orig_nbformat": 4,
  "vscode": {
   "interpreter": {
    "hash": "f9f85f796d01129d0dd105a088854619f454435301f6ffec2fea96ecbd9be4ac"
   }
  }
 },
 "nbformat": 4,
 "nbformat_minor": 2
}
