{
 "cells": [
  {
   "cell_type": "code",
   "execution_count": 1,
   "metadata": {},
   "outputs": [],
   "source": [
    "import os\n",
    "import json\n",
    "import math\n",
    "import numpy as np"
   ]
  },
  {
   "cell_type": "code",
   "execution_count": 2,
   "metadata": {},
   "outputs": [],
   "source": [
    "annotation_dir = '/root/.darwin/datasets/sparrow-computing/speed_eval/releases/v2/annotations'\n",
    "annotations_list = os.listdir(annotation_dir)"
   ]
  },
  {
   "cell_type": "code",
   "execution_count": 3,
   "metadata": {},
   "outputs": [],
   "source": [
    "front_tire_x_list = []\n",
    "front_tire_y_list = []\n",
    "back_tire_x_list = []\n",
    "back_tire_y_list = []\n",
    "for i in range(34, 90):\n",
    "    f = open(os.path.join(annotation_dir, f'{i}.json'))\n",
    "    tires = json.load(f)\n",
    "    if len(tires['annotations'])== 2:\n",
    "        back_x = tires['annotations'][0]['keypoint']['x']\n",
    "        back_y = tires['annotations'][0]['keypoint']['y']\n",
    "        front_x = tires['annotations'][1]['keypoint']['x']\n",
    "        front_y = tires['annotations'][1]['keypoint']['y']\n",
    "        #\n",
    "        front_tire_x_list.append(front_x)\n",
    "        front_tire_y_list.append(front_y)\n",
    "        back_tire_x_list.append(back_x)\n",
    "        back_tire_y_list.append(back_y)\n",
    "    if len(tires['annotations'])== 1:\n",
    "        back_x = tires['annotations'][0]['keypoint']['x']\n",
    "        back_y = tires['annotations'][0]['keypoint']['y']\n",
    "        front_x = -1\n",
    "        front_y = -1\n",
    "        #\n",
    "        front_tire_x_list.append(front_x)\n",
    "        front_tire_y_list.append(front_y)\n",
    "        back_tire_x_list.append(back_x)\n",
    "        back_tire_y_list.append(back_y)"
   ]
  },
  {
   "cell_type": "code",
   "execution_count": 4,
   "metadata": {},
   "outputs": [],
   "source": [
    "def get_distance(x1, y1, x2, y2):\n",
    "    return math.sqrt((x1-x2)**2 + (y1 -y2)**2)"
   ]
  },
  {
   "cell_type": "code",
   "execution_count": 5,
   "metadata": {},
   "outputs": [],
   "source": [
    "distance_list = []\n",
    "for i in range(len(front_tire_x_list)):\n",
    "    if front_tire_x_list[i] == -1:\n",
    "        break\n",
    "    for j in range(i,len(front_tire_x_list)):\n",
    "        future_back_x = back_tire_x_list[j]\n",
    "        future_back_y = back_tire_y_list[j]\n",
    "        current_keypoints_distance = get_distance(back_x, back_y, front_x, front_y)\n",
    "        future_keypoints_distance = get_distance(back_x, back_y, future_back_x, future_back_y)\n",
    "        if  current_keypoints_distance <= future_keypoints_distance :    \n",
    "            distance_list.append((i,j))"
   ]
  }
 ],
 "metadata": {
  "kernelspec": {
   "display_name": "Python 3.9.14 64-bit",
   "language": "python",
   "name": "python3"
  },
  "language_info": {
   "codemirror_mode": {
    "name": "ipython",
    "version": 3
   },
   "file_extension": ".py",
   "mimetype": "text/x-python",
   "name": "python",
   "nbconvert_exporter": "python",
   "pygments_lexer": "ipython3",
   "version": "3.9.14"
  },
  "orig_nbformat": 4,
  "vscode": {
   "interpreter": {
    "hash": "f9f85f796d01129d0dd105a088854619f454435301f6ffec2fea96ecbd9be4ac"
   }
  }
 },
 "nbformat": 4,
 "nbformat_minor": 2
}
