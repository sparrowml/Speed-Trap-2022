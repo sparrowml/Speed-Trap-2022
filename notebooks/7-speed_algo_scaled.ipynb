{
 "cells": [
  {
   "cell_type": "markdown",
   "metadata": {},
   "source": [
    "In this notebook we scale the speed calculation algorithm for multiple objects."
   ]
  },
  {
   "cell_type": "code",
   "execution_count": 1,
   "metadata": {},
   "outputs": [],
   "source": [
    "import json\n",
    "import numpy as np\n",
    "import matplotlib.pyplot as plt\n",
    "import cv2\n",
    "from pathlib import Path\n",
    "import os\n",
    "from tqdm import tqdm\n",
    "from sklearn import linear_model\n",
    "import pandas as pd\n",
    "from math import sqrt"
   ]
  },
  {
   "cell_type": "code",
   "execution_count": 2,
   "metadata": {},
   "outputs": [],
   "source": [
    "# REFERENCE: https://www.carwow.co.uk/guides/glossary/what-is-a-car-wheelbase-0282\n",
    "WHEEL_BASE = 2.43 #IN METERS\n",
    "DISTANCE_ERROR_THRESHOLD = 5"
   ]
  },
  {
   "cell_type": "code",
   "execution_count": 3,
   "metadata": {},
   "outputs": [],
   "source": [
    "f = open(\"/code/data/datasets/common_hall/tracking_outputs/framewise_aggregation.json\")\n",
    "frame_to_predictions_map = json.load(f)\n",
    "f = open(\"/code/data/datasets/common_hall/tracking_outputs/objectwise_aggregation.json\")\n",
    "objects_to_predictions_map = json.load(f)['annotations'] #the object_id attribute of frame_to_predictions_map are the keys of object_to_predictions_map"
   ]
  },
  {
   "cell_type": "code",
   "execution_count": 4,
   "metadata": {},
   "outputs": [],
   "source": [
    "def validate_inclusion(_x, _y, _cx, _cy, _r):\n",
    "    return (_x - _cx)**2 + (_y -_cy)**2 < _r**2"
   ]
  },
  {
   "cell_type": "code",
   "execution_count": 5,
   "metadata": {},
   "outputs": [],
   "source": [
    "def get_distance(_x1, _y1, _x2, _y2):\n",
    "    return sqrt((_x1 -_x2)**2 + (_y1 -_y2)**2)"
   ]
  },
  {
   "cell_type": "code",
   "execution_count": 6,
   "metadata": {},
   "outputs": [],
   "source": [
    "def frames_to_seconds(_fps, _n_frames):\n",
    "    return (1/_fps * _n_frames)"
   ]
  },
  {
   "cell_type": "code",
   "execution_count": 7,
   "metadata": {},
   "outputs": [],
   "source": [
    "frame_path = '/code/data/datasets/frame_imgs'\n",
    "frame_list = os.listdir(frame_path)\n",
    "frame_border = False\n",
    "rule0 = False\n",
    "rule1 = False\n",
    "rule2 = False\n",
    "def get_objectwise_keypoints(rule0, rule1, rule2):\n",
    "    objectwise_keypoints = {}\n",
    "    for i in range(len(objects_to_predictions_map)):\n",
    "        objectwise_keypoints[objects_to_predictions_map[i]['id']] = []\n",
    "    for frame_idx in range(len(frame_to_predictions_map)):\n",
    "        frame = cv2.imread(str(Path(frame_path)/frame_list[i]))\n",
    "        if frame_border:\n",
    "            img = cv2.rectangle(frame, (450, 200), (1280, 720), (0, 255, 0), thickness=4)\n",
    "        objects_per_frame = frame_to_predictions_map[frame_idx]['annotations']\n",
    "        for obj_idx in range(len(objects_per_frame)):\n",
    "            back_tire_x = objects_per_frame[obj_idx]['keypoints'][0][0]\n",
    "            back_tire_y =objects_per_frame[obj_idx]['keypoints'][0][1]\n",
    "            front_tire_x = objects_per_frame[obj_idx]['keypoints'][1][0]\n",
    "            front_tire_y = objects_per_frame[obj_idx]['keypoints'][1][1]\n",
    "            x1, y1, x2, y2 = objects_per_frame[obj_idx]['bounding_box']\n",
    "            #rule #0\n",
    "            if rule0 == True:\n",
    "                frame_save_path = Path('/code/data/datasets/rule0_imgs')\n",
    "                if x1 < 600 or x1>= 1100:\n",
    "                    back_tire_x = -100\n",
    "                    back_tire_y = -100\n",
    "                    front_tire_x = -100\n",
    "                    front_tire_y = -100\n",
    "\n",
    "            #rule #1\n",
    "            if rule1 == True:\n",
    "                frame_save_path = Path('/code/data/datasets/rule1_imgs')\n",
    "                if (back_tire_y <= y1 + int((y2 - y1)/2)):\n",
    "                    back_tire_x = -100\n",
    "                    back_tire_y = -100\n",
    "                if (front_tire_y <= y1 + int((y2 - y1)/2)):\n",
    "                    front_tire_x = -100\n",
    "                    front_tire_y = -100\n",
    "            #rule #2\n",
    "            if rule2 == True:\n",
    "                frame_save_path = Path('/code/data/datasets/rule2_imgs')\n",
    "                if validate_inclusion(back_tire_x, back_tire_y, front_tire_x, front_tire_y, 20):\n",
    "                    if np.array(objects_per_frame[obj_idx]['keypoints_scores']).argmax() == 0:\n",
    "                        front_tire_x = -100\n",
    "                        front_tire_y = -100\n",
    "                    else:\n",
    "                        back_tire_x = -100\n",
    "                        back_tire_y = -100\n",
    "            # img = cv2.rectangle(frame, (int(x1), int(y1)), (int(x2), int(y2)), (0, 255, 0), thickness=4)\n",
    "            # img = cv2.circle(img, (int(back_tire_x), int(back_tire_y)), radius=5, color=(0, 0, 255), thickness=-1) #Blue: Backtire\n",
    "            # img = cv2.circle(img, (int(front_tire_x), int(front_tire_y)), radius=5, color=(255, 0, 0), thickness=-1) #Red Front tire\n",
    "            # cv2.imwrite(os.path.join(frame_save_path, f'{frame_idx}.jpg'), img)\n",
    "            # back_tire_x_list.append(back_tire_x)\n",
    "            # back_tire_y_list.append(back_tire_y)\n",
    "            # front_tire_x_list.append(front_tire_x)\n",
    "            # front_tire_y_list.append(front_tire_y)\n",
    "            objectwise_keypoints[objects_per_frame[obj_idx]['object_tracklet_id']].append((back_tire_x, back_tire_y, front_tire_x, front_tire_y))\n",
    "    return objectwise_keypoints\n"
   ]
  },
  {
   "cell_type": "code",
   "execution_count": 8,
   "metadata": {},
   "outputs": [],
   "source": [
    "objectwise_keypoints = get_objectwise_keypoints(True, True, True)\n",
    "object_names = list(objectwise_keypoints.keys())"
   ]
  },
  {
   "cell_type": "code",
   "execution_count": 9,
   "metadata": {},
   "outputs": [],
   "source": [
    "vehicle_keypoints = {}\n",
    "for obj_idx in range(len(object_names)):\n",
    "    dont_care_count = 0\n",
    "    object_name = object_names[obj_idx]\n",
    "    noisy_vehicle_keypoints = objectwise_keypoints[object_names[obj_idx]]\n",
    "    for vehicle_keypoint_pair in noisy_vehicle_keypoints:\n",
    "        back_x, back_y, front_x, front_y = vehicle_keypoint_pair\n",
    "        if back_x < 0 and front_x < 0:\n",
    "            dont_care_count += 1\n",
    "    dont_care_percentage = dont_care_count*100/ len(noisy_vehicle_keypoints)# calculate the noise percentage\n",
    "    if dont_care_percentage == 100:#throw away if noise percentage is 100\n",
    "        continue\n",
    "    else:\n",
    "        vehicle_keypoints[obj_idx] = noisy_vehicle_keypoints\n",
    "vehicle_indices = list(vehicle_keypoints.keys())"
   ]
  },
  {
   "cell_type": "code",
   "execution_count": 10,
   "metadata": {},
   "outputs": [
    {
     "data": {
      "text/plain": [
       "120"
      ]
     },
     "execution_count": 10,
     "metadata": {},
     "output_type": "execute_result"
    }
   ],
   "source": [
    "objects_to_predictions_map[4]['segments'][0][0]"
   ]
  },
  {
   "cell_type": "code",
   "execution_count": 11,
   "metadata": {},
   "outputs": [
    {
     "name": "stdout",
     "output_type": "stream",
     "text": [
      "2.979533655903481 14\n",
      "1.83586626009253 13\n",
      "3.297886861145358 14\n",
      "2.398536242384438 14\n",
      "4.1296469210894315 14\n",
      "2.193740013871448 13\n",
      "2.136234300947848 13\n",
      "4.193454777355271 14\n",
      "3.739905312257875 14\n",
      "4.534454778410563 14\n",
      "1.9351395508335543 14\n",
      "1.0125745754103406 15\n",
      "4.345183051485222 15\n",
      "2.624093331548913 3\n",
      "1.7729452011145526 19\n",
      "0.8176442904717618 19\n",
      "1.3035506403763009 19\n",
      "2.052806636706123 20\n",
      "0.33539618406931027 19\n",
      "2.6344243051228347 20\n",
      "1.0307736307651396 20\n",
      "2.24059003687006 20\n",
      "0.5375502533316308 20\n",
      "2.223602625109052 20\n",
      "1.5934709176509898 20\n",
      "4.7630718320283165 21\n",
      "1.081925902896188 20\n",
      "2.4923180706222894 21\n",
      "2.5118275893732687 21\n",
      "3.929060416789355 21\n",
      "0.9522075181387919 22\n",
      "0.1795244262342095 23\n",
      "3.0764536660214503 24\n",
      "3.5343341627916374 25\n",
      "2.567927223921984 25\n",
      "3.3530292083554656 26\n",
      "2.230203437032017 26\n",
      "2.2414376456781895 26\n",
      "2.119844629204451 27\n",
      "0.3450924148399963 27\n",
      "1.9765225960533428 28\n",
      "1.74834129568535 28\n",
      "1.8414291353037697 29\n",
      "0.04787986516132037 29\n",
      "3.29301342944251 30\n",
      "0.17784236114803775 30\n",
      "2.5646597170627388 31\n",
      "3.8175416555328354 32\n",
      "3.1974505252645997 32\n",
      "0.4977233500240743 33\n",
      "4.0310730089406945 34\n",
      "4.819226881969769 35\n",
      "4.254268092292989 36\n",
      "3.4649625365205736 36\n",
      "0.13027898245539404 37\n",
      "0.14983228688370787 37\n",
      "2.7993905699358947 38\n",
      "4.308909988640977 40\n",
      "0.10808672092315419 40\n",
      "1.9758891632495477 41\n",
      "0.7272081145428047 41\n",
      "1.3433341664286047 43\n",
      "2.618526988473718 44\n",
      "3.0957195830896467 45\n",
      "4.353972157785762 46\n",
      "4.916251025314182 48\n",
      "1.3900314918374477 50\n",
      "4.31664499063848 52\n",
      "3.374456729527253 55\n",
      "0.366400604554741 55\n",
      "3.1732551220796665 57\n",
      "1.024830704528057 58\n",
      "3.9397123982902826 61\n",
      "0.9711912247077521 64\n"
     ]
    },
    {
     "name": "stderr",
     "output_type": "stream",
     "text": [
      "/tmp/ipykernel_1696950/4192457896.py:48: RuntimeWarning: divide by zero encountered in divide\n",
      "  front_tire_x = (front_tire_y - back_tire_x * coef[0] - back_tire_y * coef[1] - bias)/coef[2]\n",
      "/tmp/ipykernel_1696950/4192457896.py:50: RuntimeWarning: invalid value encountered in multiply\n",
      "  front_tire_y = back_tire_x * coef[0] + back_tire_y * coef[1] + front_tire_x* coef[2] + bias\n",
      "/tmp/ipykernel_1696950/4192457896.py:44: RuntimeWarning: divide by zero encountered in divide\n",
      "  back_tire_x = (front_tire_y - back_tire_y * coef[1] - front_tire_x* coef[2] - bias)/coef[0]\n",
      "/tmp/ipykernel_1696950/4192457896.py:46: RuntimeWarning: invalid value encountered in multiply\n",
      "  back_tire_y = (front_tire_y - back_tire_x * coef[0] - front_tire_x* coef[2] - bias)/coef[1]\n",
      "/tmp/ipykernel_1696950/3395897111.py:2: RuntimeWarning: invalid value encountered in subtract\n",
      "  return sqrt((_x1 -_x2)**2 + (_y1 -_y2)**2)\n"
     ]
    }
   ],
   "source": [
    "speed_collection = {}\n",
    "for vehicle_index in vehicle_indices:#Looping through all objects in the video\n",
    "    approximate_speed = -1\n",
    "    back_tire_x_list = []\n",
    "    back_tire_y_list = []\n",
    "    front_tire_x_list = []\n",
    "    front_tire_y_list = []\n",
    "    object_name = object_names[vehicle_index]\n",
    "    for keypoints_per_frame in objectwise_keypoints[object_name]:\n",
    "        back_tire_x, back_tire_y, front_tire_x, front_tire_y = keypoints_per_frame\n",
    "        back_tire_x_list.append(back_tire_x)\n",
    "        back_tire_y_list.append(back_tire_y)\n",
    "        front_tire_x_list.append(front_tire_x)\n",
    "        front_tire_y_list.append(front_tire_y)\n",
    "    #\n",
    "    data = {\"back_tire_x\":back_tire_x_list, \"back_tire_y\":back_tire_y_list, \"front_tire_x\":front_tire_x_list, \"front_tire_y\":front_tire_y_list}\n",
    "    df = pd.DataFrame(data)\n",
    "    df.drop(df[df.back_tire_x < 0].index, inplace=True)\n",
    "    df.drop(df[df.front_tire_x < 0].index, inplace=True)\n",
    "    x = df.iloc[:, :-1]\n",
    "    y = df.iloc[:, -1:]\n",
    "    #\n",
    "    model = linear_model.LinearRegression()\n",
    "    model.fit(x, y)\n",
    "    coef = model.coef_[0]\n",
    "    bias = model.intercept_\n",
    "    #\n",
    "    back_tire_x_list = []\n",
    "    back_tire_y_list = []\n",
    "    front_tire_x_list = []\n",
    "    front_tire_y_list = []\n",
    "    for i in range(len(data['back_tire_x'])):\n",
    "        back_tire_x = data['back_tire_x'][i]\n",
    "        back_tire_y = data['back_tire_y'][i]\n",
    "        front_tire_x = data['front_tire_x'][i]\n",
    "        front_tire_y = data['front_tire_y'][i]\n",
    "        if (back_tire_x < 0 and back_tire_y < 0) and (front_tire_x < 0 and front_tire_y < 0):\n",
    "            back_tire_x_list.append(back_tire_x)\n",
    "            back_tire_y_list.append(back_tire_y)\n",
    "            front_tire_x_list.append(front_tire_x)\n",
    "            front_tire_y_list.append(front_tire_y)\n",
    "            continue\n",
    "        if back_tire_x < 0:\n",
    "            back_tire_x = (front_tire_y - back_tire_y * coef[1] - front_tire_x* coef[2] - bias)/coef[0]\n",
    "        if back_tire_y < 0:\n",
    "            back_tire_y = (front_tire_y - back_tire_x * coef[0] - front_tire_x* coef[2] - bias)/coef[1]\n",
    "        if front_tire_x < 0:\n",
    "            front_tire_x = (front_tire_y - back_tire_x * coef[0] - back_tire_y * coef[1] - bias)/coef[2]\n",
    "        if front_tire_y < 0:\n",
    "            front_tire_y = back_tire_x * coef[0] + back_tire_y * coef[1] + front_tire_x* coef[2] + bias\n",
    "\n",
    "        back_tire_x_list.append(back_tire_x)\n",
    "        back_tire_y_list.append(back_tire_y)\n",
    "        front_tire_x_list.append(front_tire_x)\n",
    "        front_tire_y_list.append(front_tire_y)\n",
    "    #\n",
    "\n",
    "    vehicle_speed = []\n",
    "    skipped = 0\n",
    "\n",
    "    back_tire_keypoints = [back_tire_x_list, back_tire_y_list]\n",
    "    back_tire_keypoints = [list(x) for x in zip(*back_tire_keypoints[::-1])]\n",
    "    front_tire_keypoints = [front_tire_x_list, front_tire_y_list]\n",
    "    front_tire_keypoints = [list(x) for x in zip(*front_tire_keypoints[::-1])]\n",
    "\n",
    "    back_tire_x_list = []\n",
    "    back_tire_y_list = []\n",
    "    front_tire_x_list = []\n",
    "    front_tire_y_list = []\n",
    "    speed_checkpoints = []\n",
    "    #\n",
    "    vehicle_speed = {}\n",
    "    total_num_points = len(objectwise_keypoints[object_name])\n",
    "    object_start = objects_to_predictions_map[vehicle_index]['segments'][0][0]\n",
    "    for i in range(total_num_points):\n",
    "        back_tire = back_tire_keypoints[i]\n",
    "        front_tire = front_tire_keypoints[i]\n",
    "        if back_tire[0] < 0 or front_tire[0] <0:\n",
    "            vehicle_speed[i + object_start] = approximate_speed\n",
    "            skipped+=1\n",
    "            continue\n",
    "        for j in range(i,total_num_points):\n",
    "            future_back_tire = back_tire_keypoints[j]\n",
    "            if future_back_tire[0] < 0:\n",
    "                continue\n",
    "            back_tire_x = back_tire[0]\n",
    "            back_tire_y = back_tire[1]\n",
    "            front_tire_x = front_tire[0]\n",
    "            front_tire_y = front_tire[1]\n",
    "            future_back_tire_x = future_back_tire[0]\n",
    "            future_back_tire_y = future_back_tire[1]\n",
    "            current_keypoints_distance = get_distance(back_tire_x, back_tire_y, front_tire_x, front_tire_y)\n",
    "            future_keypoints_distance = get_distance(back_tire_x, back_tire_y, future_back_tire_x, future_back_tire_y)\n",
    "            if  current_keypoints_distance <= future_keypoints_distance:\n",
    "                if (future_keypoints_distance - current_keypoints_distance) < DISTANCE_ERROR_THRESHOLD:\n",
    "                    print(future_keypoints_distance - current_keypoints_distance, j- i)\n",
    "                    approximate_speed = round(WHEEL_BASE / frames_to_seconds(30, j - i))\n",
    "                    vehicle_speed[i + object_start] = approximate_speed\n",
    "                    back_tire_x_list.append(back_tire_x)\n",
    "                    back_tire_y_list.append(back_tire_y)\n",
    "                    front_tire_x_list.append(front_tire_x)\n",
    "                    front_tire_y_list.append(front_tire_y)\n",
    "                break\n",
    "    speed_collection[vehicle_index] = vehicle_speed\n",
    "        \n",
    "    \n",
    "\n",
    "\n",
    "    \n"
   ]
  },
  {
   "cell_type": "code",
   "execution_count": 12,
   "metadata": {},
   "outputs": [
    {
     "data": {
      "text/plain": [
       "dict_keys([0, 1, 3, 4])"
      ]
     },
     "execution_count": 12,
     "metadata": {},
     "output_type": "execute_result"
    }
   ],
   "source": [
    "speed_collection.keys()"
   ]
  },
  {
   "cell_type": "code",
   "execution_count": 13,
   "metadata": {},
   "outputs": [
    {
     "data": {
      "text/plain": [
       "[<matplotlib.lines.Line2D at 0x7f358c4403d0>]"
      ]
     },
     "execution_count": 13,
     "metadata": {},
     "output_type": "execute_result"
    },
    {
     "data": {
      "image/png": "[encoded data removed]",
      "text/plain": [
       "<Figure size 640x480 with 1 Axes>"
      ]
     },
     "metadata": {},
     "output_type": "display_data"
    }
   ],
   "source": [
    "plt.plot(speed_collection[3].values())"
   ]
  },
  {
   "cell_type": "code",
   "execution_count": null,
   "metadata": {},
   "outputs": [],
   "source": [
    "#save the results to a JSON\n",
    "f = open('/code/data/datasets/common_hall/tracking_outputs/speed_log.json', \"w\")\n",
    "json.dump(speed_collection, f)\n",
    "f.close()"
   ]
  }
 ],
 "metadata": {
  "kernelspec": {
   "display_name": "Python 3.9.14 64-bit",
   "language": "python",
   "name": "python3"
  },
  "language_info": {
   "codemirror_mode": {
    "name": "ipython",
    "version": 3
   },
   "file_extension": ".py",
   "mimetype": "text/x-python",
   "name": "python",
   "nbconvert_exporter": "python",
   "pygments_lexer": "ipython3",
   "version": "3.9.14"
  },
  "orig_nbformat": 4,
  "vscode": {
   "interpreter": {
    "hash": "f9f85f796d01129d0dd105a088854619f454435301f6ffec2fea96ecbd9be4ac"
   }
  }
 },
 "nbformat": 4,
 "nbformat_minor": 2
}
