{
 "cells": [
  {
   "cell_type": "markdown",
   "metadata": {},
   "source": [
    "This notebook contains the speed calculation algorithm applied for a single object (vehicle)."
   ]
  },
  {
   "cell_type": "code",
   "execution_count": 1,
   "metadata": {},
   "outputs": [],
   "source": [
    "import json\n",
    "import numpy as np\n",
    "import matplotlib.pyplot as plt\n",
    "import cv2\n",
    "from pathlib import Path\n",
    "import os\n",
    "from tqdm import tqdm\n",
    "from sklearn import linear_model\n",
    "import pandas as pd\n",
    "from math import sqrt\n",
    "import math"
   ]
  },
  {
   "cell_type": "code",
   "execution_count": 2,
   "metadata": {},
   "outputs": [],
   "source": [
    "# REFERENCE: https://www.carwow.co.uk/guides/glossary/what-is-a-car-wheelbase-0282\n",
    "WHEEL_BASE = 2.43 #IN METERS\n",
    "DISTANCE_ERROR_THRESHOLD = 5\n",
    "INBETWEENANGLE = 90\n",
    "MPERSTOMPH = 2.237  # METERS PER SECOND TO MILES PER HOUR"
   ]
  },
  {
   "cell_type": "code",
   "execution_count": 3,
   "metadata": {},
   "outputs": [],
   "source": [
    "f = open(\"/code/data/datasets/common_hall/tracking_outputs/framewise_aggregation.json\")\n",
    "frame_to_predictions_map = json.load(f)\n",
    "f = open(\"/code/data/datasets/common_hall/tracking_outputs/objectwise_aggregation.json\")\n",
    "objects_to_predictions_map = json.load(f)['annotations'] #the object_id attribute of frame_to_predictions_map are the keys of object_to_predictions_map"
   ]
  },
  {
   "cell_type": "code",
   "execution_count": 4,
   "metadata": {},
   "outputs": [],
   "source": [
    "def validate_inclusion(_x, _y, _cx, _cy, _r):\n",
    "    return (_x - _cx)**2 + (_y -_cy)**2 < _r**2"
   ]
  },
  {
   "cell_type": "code",
   "execution_count": 5,
   "metadata": {},
   "outputs": [],
   "source": [
    "def get_theta(_x1, _y1, _x2, _y2):\n",
    "    return 90 - math.degrees(math.atan((_y2 - _y1)/(_x2 - _x1)))"
   ]
  },
  {
   "cell_type": "code",
   "execution_count": 6,
   "metadata": {},
   "outputs": [
    {
     "ename": "FileNotFoundError",
     "evalue": "[Errno 2] No such file or directory: '/code/data/datasets/frame_imgs'",
     "output_type": "error",
     "traceback": [
      "\u001b[0;31m---------------------------------------------------------------------------\u001b[0m",
      "\u001b[0;31mFileNotFoundError\u001b[0m                         Traceback (most recent call last)",
      "Cell \u001b[0;32mIn [6], line 2\u001b[0m\n\u001b[1;32m      1\u001b[0m frame_path \u001b[39m=\u001b[39m \u001b[39m'\u001b[39m\u001b[39m/code/data/datasets/frame_imgs\u001b[39m\u001b[39m'\u001b[39m\n\u001b[0;32m----> 2\u001b[0m frame_list \u001b[39m=\u001b[39m os\u001b[39m.\u001b[39mlistdir(frame_path)\n\u001b[1;32m      3\u001b[0m frame_border \u001b[39m=\u001b[39m \u001b[39mFalse\u001b[39;00m\n\u001b[1;32m      4\u001b[0m rule0 \u001b[39m=\u001b[39m \u001b[39mFalse\u001b[39;00m\n",
      "\u001b[0;31mFileNotFoundError\u001b[0m: [Errno 2] No such file or directory: '/code/data/datasets/frame_imgs'"
     ]
    }
   ],
   "source": [
    "frame_path = '/code/data/datasets/frame_imgs'\n",
    "frame_list = os.listdir(frame_path)\n",
    "frame_border = False\n",
    "rule0 = False\n",
    "rule1 = False\n",
    "rule2 = False\n",
    "def get_objectwise_keypoints(rule0, rule1, rule2):\n",
    "    objectwise_keypoints = {}\n",
    "    for i in range(len(objects_to_predictions_map)):\n",
    "        objectwise_keypoints[objects_to_predictions_map[i]['id']] = []\n",
    "    for frame_idx in range(len(frame_to_predictions_map)):\n",
    "        frame = cv2.imread(str(Path(frame_path)/frame_list[i]))\n",
    "        if frame_border:\n",
    "            img = cv2.rectangle(frame, (450, 200), (1280, 720), (0, 255, 0), thickness=4)\n",
    "        objects_per_frame = frame_to_predictions_map[frame_idx]['annotations']\n",
    "        for obj_idx in range(len(objects_per_frame)):\n",
    "            back_tire_x = objects_per_frame[obj_idx]['keypoints'][0][0]\n",
    "            back_tire_y =objects_per_frame[obj_idx]['keypoints'][0][1]\n",
    "            front_tire_x = objects_per_frame[obj_idx]['keypoints'][1][0]\n",
    "            front_tire_y = objects_per_frame[obj_idx]['keypoints'][1][1]\n",
    "            x1, y1, x2, y2 = objects_per_frame[obj_idx]['bounding_box']\n",
    "            #rule #0\n",
    "            if rule0 == True:\n",
    "                frame_save_path = Path('/code/data/datasets/rule0_imgs')\n",
    "                if x1 < 600 or x1>= 1100:\n",
    "                    back_tire_x = -100\n",
    "                    back_tire_y = -100\n",
    "                    front_tire_x = -100\n",
    "                    front_tire_y = -100\n",
    "\n",
    "            #rule #1\n",
    "            if rule1 == True:\n",
    "                frame_save_path = Path('/code/data/datasets/rule1_imgs')\n",
    "                if (back_tire_y <= y1 + int((y2 - y1)/2)):\n",
    "                    back_tire_x = -100\n",
    "                    back_tire_y = -100\n",
    "                if (front_tire_y <= y1 + int((y2 - y1)/2)):\n",
    "                    front_tire_x = -100\n",
    "                    front_tire_y = -100\n",
    "            #rule #2\n",
    "            if rule2 == True:\n",
    "                frame_save_path = Path('/code/data/datasets/rule2_imgs')\n",
    "                if validate_inclusion(back_tire_x, back_tire_y, front_tire_x, front_tire_y, 20):\n",
    "                    if np.array(objects_per_frame[obj_idx]['keypoints_scores']).argmax() == 0:\n",
    "                        front_tire_x = -100\n",
    "                        front_tire_y = -100\n",
    "                    else:\n",
    "                        back_tire_x = -100\n",
    "                        back_tire_y = -100\n",
    "\n",
    "            # img = cv2.rectangle(frame, (int(x1), int(y1)), (int(x2), int(y2)), (0, 255, 0), thickness=4)\n",
    "            # img = cv2.circle(img, (int(back_tire_x), int(back_tire_y)), radius=5, color=(0, 0, 255), thickness=-1) #Blue: Backtire\n",
    "            # img = cv2.circle(img, (int(front_tire_x), int(front_tire_y)), radius=5, color=(255, 0, 0), thickness=-1) #Red Front tire\n",
    "            # cv2.imwrite(os.path.join(frame_save_path, f'{frame_idx}.jpg'), img)\n",
    "            # back_tire_x_list.append(back_tire_x)\n",
    "            # back_tire_y_list.append(back_tire_y)\n",
    "            # front_tire_x_list.append(front_tire_x)\n",
    "            # front_tire_y_list.append(front_tire_y)\n",
    "            objectwise_keypoints[objects_per_frame[obj_idx]['object_tracklet_id']].append((back_tire_x, back_tire_y, front_tire_x, front_tire_y))\n",
    "    return objectwise_keypoints\n"
   ]
  },
  {
   "cell_type": "code",
   "execution_count": null,
   "metadata": {},
   "outputs": [],
   "source": [
    "objectwise_keypoints = get_objectwise_keypoints(True, True, True)\n",
    "object_names = list(objectwise_keypoints.keys())"
   ]
  },
  {
   "cell_type": "code",
   "execution_count": null,
   "metadata": {},
   "outputs": [],
   "source": [
    "#@TODO: loop through all the objects in the video: currently we are testing out 4\n",
    "selected_obj_idx = 3\n",
    "vehicle_keypoints = objectwise_keypoints[object_names[selected_obj_idx]]\n",
    "object_name = object_names[selected_obj_idx]"
   ]
  },
  {
   "cell_type": "code",
   "execution_count": null,
   "metadata": {},
   "outputs": [],
   "source": [
    "back_tire_x_list = []\n",
    "back_tire_y_list = []\n",
    "front_tire_x_list = []\n",
    "front_tire_y_list = []\n",
    "for keypoints_per_frame in objectwise_keypoints[object_name]:\n",
    "    back_tire_x, back_tire_y, front_tire_x, front_tire_y = keypoints_per_frame\n",
    "    back_tire_x_list.append(back_tire_x)\n",
    "    back_tire_y_list.append(back_tire_y)\n",
    "    front_tire_x_list.append(front_tire_x)\n",
    "    front_tire_y_list.append(front_tire_y)"
   ]
  },
  {
   "cell_type": "code",
   "execution_count": null,
   "metadata": {},
   "outputs": [],
   "source": [
    "data = {\"back_tire_x\":back_tire_x_list, \"back_tire_y\":back_tire_y_list, \"front_tire_x\":front_tire_x_list, \"front_tire_y\":front_tire_y_list}\n",
    "df = pd.DataFrame(data)\n",
    "df.drop(df[df.back_tire_x < 0].index, inplace=True)\n",
    "df.drop(df[df.front_tire_x < 0].index, inplace=True)\n",
    "x = df.iloc[:, :-1]\n",
    "y = df.iloc[:, -1:]"
   ]
  },
  {
   "cell_type": "code",
   "execution_count": null,
   "metadata": {},
   "outputs": [],
   "source": [
    "#\n",
    "model = linear_model.LinearRegression()\n",
    "model.fit(x, y)\n",
    "coef = model.coef_[0]\n",
    "bias = model.intercept_\n",
    "coef = [\n",
    "    i + 0.0000001 if i == 0 else i for i in coef\n",
    "]  # Add a small value to avoid division by zero.\n",
    "#"
   ]
  },
  {
   "cell_type": "code",
   "execution_count": null,
   "metadata": {},
   "outputs": [],
   "source": [
    "back_tire_x_list = []\n",
    "back_tire_y_list = []\n",
    "front_tire_x_list = []\n",
    "front_tire_y_list = []\n",
    "for i in range(len(data['back_tire_x'])):\n",
    "    back_tire_x = data['back_tire_x'][i]\n",
    "    back_tire_y = data['back_tire_y'][i]\n",
    "    front_tire_x = data['front_tire_x'][i]\n",
    "    front_tire_y = data['front_tire_y'][i]\n",
    "    if (back_tire_x < 0 and back_tire_y < 0) and (front_tire_x < 0 and front_tire_y < 0):\n",
    "        back_tire_x_list.append(back_tire_x)\n",
    "        back_tire_y_list.append(back_tire_y)\n",
    "        front_tire_x_list.append(front_tire_x)\n",
    "        front_tire_y_list.append(front_tire_y)\n",
    "        continue\n",
    "    if back_tire_x < 0:\n",
    "        back_tire_x = (front_tire_y - back_tire_y * coef[1] - front_tire_x* coef[2] - bias)/coef[0]\n",
    "    if back_tire_y < 0:\n",
    "        back_tire_y = (front_tire_y - back_tire_x * coef[0] - front_tire_x* coef[2] - bias)/coef[1]\n",
    "    if front_tire_x < 0:\n",
    "        front_tire_x = (front_tire_y - back_tire_x * coef[0] - back_tire_y * coef[1] - bias)/coef[2]\n",
    "    if front_tire_y < 0:\n",
    "        front_tire_y = back_tire_x * coef[0] + back_tire_y * coef[1] + front_tire_x* coef[2] + bias\n",
    "\n",
    "    back_tire_x_list.append(back_tire_x)\n",
    "    back_tire_y_list.append(back_tire_y)\n",
    "    front_tire_x_list.append(front_tire_x)\n",
    "    front_tire_y_list.append(front_tire_y)"
   ]
  },
  {
   "cell_type": "code",
   "execution_count": null,
   "metadata": {},
   "outputs": [],
   "source": [
    "fig = plt.figure(1)\n",
    "ax = fig.add_subplot(projection='3d')\n",
    "plt.scatter(back_tire_x_list, back_tire_y_list,list(range(len(back_tire_x_list))), label ='back' )\n",
    "plt.scatter( front_tire_x_list, front_tire_y_list,list(range(len(front_tire_x_list))), label='front' )\n",
    "plt.legend()\n",
    "plt.xlabel('x')\n",
    "plt.ylabel('y')\n",
    "plt.title(\"Keypoints w.r.t to frames\")"
   ]
  },
  {
   "cell_type": "code",
   "execution_count": null,
   "metadata": {},
   "outputs": [],
   "source": [
    "fig = plt.figure(2)\n",
    "plt.scatter(df['back_tire_x'], df['back_tire_y'], label ='back' )\n",
    "plt.scatter( df['front_tire_x'], df['front_tire_y'], label='front' )\n",
    "plt.legend()\n",
    "plt.xlabel('x')\n",
    "plt.ylabel('y')\n",
    "plt.title(\"Before handling single keypoint cases\")"
   ]
  },
  {
   "cell_type": "code",
   "execution_count": null,
   "metadata": {},
   "outputs": [],
   "source": [
    "fig = plt.figure(3)\n",
    "plt.scatter(back_tire_x_list, back_tire_y_list, label ='back' )\n",
    "plt.scatter( front_tire_x_list, front_tire_y_list, label='front' )\n",
    "plt.legend()\n",
    "plt.xlim(500, 1400)\n",
    "plt.ylim(400, 700)\n",
    "plt.xlabel('x')\n",
    "plt.ylabel('y')\n",
    "plt.title(\"After handling single keypoint cases (Gained 50 points)\")"
   ]
  },
  {
   "cell_type": "code",
   "execution_count": null,
   "metadata": {},
   "outputs": [],
   "source": [
    "def get_distance(_x1, _y1, _x2, _y2):\n",
    "    return sqrt((_x1 -_x2)**2 + (_y1 -_y2)**2)"
   ]
  },
  {
   "cell_type": "code",
   "execution_count": null,
   "metadata": {},
   "outputs": [],
   "source": [
    "# This cell can find the average wheelbase based on complete tire sets although we don't need it.\n",
    "# tire_distance = 0\n",
    "# valid_points = 0\n",
    "# total_num_points = len(objectwise_keypoints[object_name])\n",
    "# for keypoints_per_frame in objectwise_keypoints[object_name]:\n",
    "#     back_tire_x, back_tire_y, front_tire_x, front_tire_y = keypoints_per_frame\n",
    "#     if back_tire_x >=0 and front_tire_x >=0:\n",
    "#         valid_points += 1\n",
    "#         tire_distance += get_distance(back_tire_x, back_tire_y, front_tire_x, front_tire_y)\n",
    "# tire_distance /= valid_points\n",
    "# print(\"Tire Distance is \", tire_distance)\n",
    "# print(\"Num. of valid points are\", valid_points)\n",
    "# print(\"Total number of points\", total_num_points)"
   ]
  },
  {
   "cell_type": "code",
   "execution_count": null,
   "metadata": {},
   "outputs": [],
   "source": [
    "def frames_to_seconds(_fps, _n_frames):\n",
    "    return (1/_fps) * _n_frames"
   ]
  },
  {
   "cell_type": "code",
   "execution_count": null,
   "metadata": {},
   "outputs": [],
   "source": [
    "\n",
    "vehicle_speed = []\n",
    "skipped = 0\n",
    "\n",
    "back_tire_keypoints = [back_tire_x_list, back_tire_y_list]\n",
    "back_tire_keypoints = [list(x) for x in zip(*back_tire_keypoints[::-1])]\n",
    "front_tire_keypoints = [front_tire_x_list, front_tire_y_list]\n",
    "front_tire_keypoints = [list(x) for x in zip(*front_tire_keypoints[::-1])]\n",
    "\n",
    "back_tire_x_list = []\n",
    "back_tire_y_list = []\n",
    "front_tire_x_list = []\n",
    "front_tire_y_list = []\n",
    "speed_checkpoints = []\n",
    "\n",
    "approximate_speed = -1\n",
    "vehicle_speed = {}\n",
    "total_num_points = len(objectwise_keypoints[object_name])\n",
    "for i in range(total_num_points):\n",
    "    back_tire = back_tire_keypoints[i]\n",
    "    front_tire = front_tire_keypoints[i]\n",
    "    if back_tire[0] < 0 or front_tire[0] <0:\n",
    "        vehicle_speed[i] = approximate_speed\n",
    "        skipped+=1\n",
    "        continue\n",
    "    for j in range(i,total_num_points):\n",
    "        future_back_tire = back_tire_keypoints[j]\n",
    "        if future_back_tire[0] < 0:\n",
    "            continue\n",
    "        back_tire_x = back_tire[0]\n",
    "        back_tire_y = back_tire[1]\n",
    "        front_tire_x = front_tire[0]\n",
    "        front_tire_y = front_tire[1]\n",
    "        future_back_tire_x = future_back_tire[0]\n",
    "        future_back_tire_y = future_back_tire[1]\n",
    "        current_keypoints_distance = get_distance(back_tire_x, back_tire_y, front_tire_x, front_tire_y)\n",
    "        future_keypoints_distance = get_distance(back_tire_x, back_tire_y, future_back_tire_x, future_back_tire_y)\n",
    "        # try:\n",
    "        #     theta = get_theta(back_tire_x, back_tire_y, future_back_tire_x, future_back_tire_y)\n",
    "        #     print(\"Aragon says\", theta)\n",
    "        # except:\n",
    "        #     pass\n",
    "        if  current_keypoints_distance <= future_keypoints_distance:\n",
    "            alpha = get_theta(back_tire_x, back_tire_y, future_back_tire_x, future_back_tire_y)\n",
    "            beta = get_theta(back_tire_x, back_tire_y, front_tire_x, front_tire_y)\n",
    "            if (future_keypoints_distance - current_keypoints_distance) < DISTANCE_ERROR_THRESHOLD and INBETWEENANGLE>=alpha + beta:\n",
    "                approximate_speed = round(WHEEL_BASE / frames_to_seconds(30, j - i))\n",
    "                print(\"Current Speed is\", approximate_speed * MPERSTOMPH, \"mph\", i, j)\n",
    "                vehicle_speed[i] = approximate_speed\n",
    "                back_tire_x_list.append(back_tire_x)\n",
    "                back_tire_y_list.append(back_tire_y)\n",
    "                front_tire_x_list.append(front_tire_x)\n",
    "                front_tire_y_list.append(front_tire_y)\n",
    "            break\n",
    "        \n",
    "    \n",
    "\n"
   ]
  }
 ],
 "metadata": {
  "kernelspec": {
   "display_name": "Python 3.9.14 64-bit",
   "language": "python",
   "name": "python3"
  },
  "language_info": {
   "codemirror_mode": {
    "name": "ipython",
    "version": 3
   },
   "file_extension": ".py",
   "mimetype": "text/x-python",
   "name": "python",
   "nbconvert_exporter": "python",
   "pygments_lexer": "ipython3",
   "version": "3.9.14"
  },
  "orig_nbformat": 4,
  "vscode": {
   "interpreter": {
    "hash": "f9f85f796d01129d0dd105a088854619f454435301f6ffec2fea96ecbd9be4ac"
   }
  }
 },
 "nbformat": 4,
 "nbformat_minor": 2
}
