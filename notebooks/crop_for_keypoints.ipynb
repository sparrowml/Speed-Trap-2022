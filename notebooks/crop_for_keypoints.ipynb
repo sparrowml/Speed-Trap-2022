{
 "cells": [
  {
   "cell_type": "markdown",
   "metadata": {},
   "source": [
    "In this notebook, we go through all the bounding boxes of the vehicles to choose an appropriate resize configuration for the keypoints."
   ]
  },
  {
   "cell_type": "code",
   "execution_count": null,
   "metadata": {},
   "outputs": [],
   "source": [
    "import numpy as np\n",
    "from pathlib import Path\n",
    "import json\n",
    "import glob\n",
    "from speed_trapv3.keypoints.config import Config\n",
    "def find_max_crop_size(_path, _img_dim):\n",
    "    path = Path(_path)\n",
    "    img_dim = _img_dim\n",
    "    max_width = -np.inf\n",
    "    max_height = -np.inf\n",
    "    ann_list = glob.glob(str(path / \"*.json\"))\n",
    "    for file in ann_list:\n",
    "        f = open(path / file)\n",
    "        data = json.load(f)\n",
    "        x1, y1, x2, y2 = data[\"bounding_box\"]\n",
    "        width, height = np.array([y2 - y1, x2 - x1]) * img_dim\n",
    "        if max_height < height:\n",
    "            max_height = height\n",
    "        if max_width < width:\n",
    "            max_width = width\n",
    "    return (int(max_width), int(max_height))\n",
    "max_w, max_h = find_max_crop_size(\"/code/data/datasets/annotations\", Config.original_image_size)"
   ]
  }
 ],
 "metadata": {
  "language_info": {
   "name": "python"
  },
  "orig_nbformat": 4
 },
 "nbformat": 4,
 "nbformat_minor": 2
}
