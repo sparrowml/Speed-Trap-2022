{
 "cells": [
  {
   "cell_type": "code",
   "execution_count": 29,
   "metadata": {},
   "outputs": [],
   "source": [
    "from speed_trapv3.keypoints.model import SegmentationModel\n",
    "from speed_trapv3.detection.model import RetinaNet\n",
    "from speed_trapv3.detection.config import Config as DetConfig\n",
    "from speed_trapv3.keypoints.config import Config as KeyConfig\n",
    "from speed_trapv3.config import Config\n",
    "from speed_trapv3.utils import slugify, get_prediction_path\n",
    "from pathlib import Path\n",
    "import random\n",
    "from tqdm import tqdm\n",
    "import imageio\n",
    "from speed_trapv3.keypoints.dataset import crop_and_resize\n",
    "import numpy as np\n",
    "import torchvision.transforms as T\n",
    "import torch\n",
    "import cv2\n",
    "import os\n"
   ]
  },
  {
   "cell_type": "code",
   "execution_count": 2,
   "metadata": {},
   "outputs": [],
   "source": [
    "detection_model = RetinaNet().eval().cuda()\n",
    "detection_model.load(DetConfig.trained_model_path)"
   ]
  },
  {
   "cell_type": "code",
   "execution_count": 3,
   "metadata": {},
   "outputs": [
    {
     "data": {
      "text/plain": [
       "<All keys matched successfully>"
      ]
     },
     "execution_count": 3,
     "metadata": {},
     "output_type": "execute_result"
    }
   ],
   "source": [
    "keypoint_model = SegmentationModel().eval().cuda()\n",
    "keypoint_model.load(KeyConfig.trained_model_path)"
   ]
  },
  {
   "cell_type": "code",
   "execution_count": 10,
   "metadata": {},
   "outputs": [],
   "source": [
    "image_transform = T.Compose([T.ToTensor()])"
   ]
  },
  {
   "cell_type": "code",
   "execution_count": 43,
   "metadata": {},
   "outputs": [],
   "source": [
    "!rm -rf /code/data/datasets/temp_imgs/*"
   ]
  },
  {
   "cell_type": "code",
   "execution_count": 42,
   "metadata": {},
   "outputs": [
    {
     "name": "stderr",
     "output_type": "stream",
     "text": [
      "  0%|          | 0/3 [00:00<?, ?it/s]/tmp/ipykernel_71260/324182473.py:7: DeprecationWarning: Starting with ImageIO v3 the behavior of this function will switch to that of iio.v3.imread. To keep the current behavior (and make this warning disappear) use `import imageio.v2 as imageio` or call `imageio.v2.imread` directly.\n",
      "  img = imageio.imread(image_path)\n",
      "100%|██████████| 3/3 [00:00<00:00,  4.00it/s]\n"
     ]
    }
   ],
   "source": [
    "image_paths = list(Config.images_directory.glob(\"*.jpg\"))\n",
    "random.shuffle(image_paths)\n",
    "score_threshold: float = 0.5\n",
    "image_paths = image_paths[:3]\n",
    "for image_path in tqdm(image_paths):\n",
    "    slug = slugify(image_path)\n",
    "    img = imageio.imread(image_path)\n",
    "    img_h, img_w, _ = img.shape\n",
    "    boxes = detection_model(img)\n",
    "    boxes = boxes[boxes.scores > score_threshold].to_relative().to_tlbr()\n",
    "    boxes = boxes.array[:,:4]\n",
    "    keypoint_list = []\n",
    "    for box in boxes:\n",
    "        x1, y1, x2, y2 = (box * np.array([img_w, img_h, img_w, img_h])).astype(int)\n",
    "        roi = crop_and_resize(box, img, KeyConfig.image_crop_size[0],KeyConfig.image_crop_size[1])\n",
    "        # roi = np.array(roi)\n",
    "        roi_w, roi_h = roi.size\n",
    "        x = image_transform(roi)\n",
    "        x = torch.unsqueeze(x, 0).cuda()\n",
    "        keypoints = keypoint_model(x)['keypoints'][0].detach().cpu().numpy()\n",
    "        keypoints =  (keypoints/ np.array([roi_w, roi_h])  * np.array([img_w, img_h])).astype(int)\n",
    "        keypoint_list.append(keypoints)\n",
    "        img = cv2.rectangle(img, (x1, y1), (x2, y2), (0, 255, 0), thickness=4)\n",
    "        img = cv2.circle(img, (int(keypoints[0][0]), int(keypoints[0][1])), radius=10, color=(0, 0, 255), thickness=-1) #Blue: Backtire\n",
    "        img = cv2.circle(img, (int(keypoints[1][0]), int(keypoints[1][1])), radius=10, color=(255, 0, 0), thickness=-1) #Red Front tire\n",
    "    save_path = '/code/data/datasets/temp_imgs'\n",
    "    filename = str(slug) + \".jpg\"\n",
    "    cv2.imwrite(os.path.join(save_path, filename), img)\n",
    "        \n",
    "\n",
    "    # boxes.to_file(get_prediction_path(slug))"
   ]
  }
 ],
 "metadata": {
  "kernelspec": {
   "display_name": "Python 3.9.14 64-bit",
   "language": "python",
   "name": "python3"
  },
  "language_info": {
   "codemirror_mode": {
    "name": "ipython",
    "version": 3
   },
   "file_extension": ".py",
   "mimetype": "text/x-python",
   "name": "python",
   "nbconvert_exporter": "python",
   "pygments_lexer": "ipython3",
   "version": "3.9.14"
  },
  "orig_nbformat": 4,
  "vscode": {
   "interpreter": {
    "hash": "f9f85f796d01129d0dd105a088854619f454435301f6ffec2fea96ecbd9be4ac"
   }
  }
 },
 "nbformat": 4,
 "nbformat_minor": 2
}
