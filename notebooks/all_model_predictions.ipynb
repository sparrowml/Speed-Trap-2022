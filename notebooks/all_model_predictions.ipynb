{
 "cells": [
  {
   "cell_type": "markdown",
   "metadata": {},
   "source": [
    "This notebook generates keypoints and bounding boxes, and save them seperately. Problem here is that the two types of information comes from two models, so we generate them seperately and then combine them."
   ]
  },
  {
   "cell_type": "code",
   "execution_count": null,
   "metadata": {},
   "outputs": [],
   "source": [
    "from speed_trapv3.keypoints.model import SegmentationModel\n",
    "from speed_trapv3.detection.model import RetinaNet\n",
    "from speed_trapv3.detection.config import Config as DetConfig\n",
    "from speed_trapv3.keypoints.config import Config as KeyConfig\n",
    "from speed_trapv3.config import Config\n",
    "from speed_trapv3.utils import slugify, get_prediction_path\n",
    "from pathlib import Path\n",
    "import random\n",
    "from tqdm import tqdm\n",
    "import imageio\n",
    "from speed_trapv3.keypoints.dataset import crop_and_resize,process_keypoints, keypoints_post_inference_processing\n",
    "import numpy as np\n",
    "import torchvision.transforms as T\n",
    "import torch\n",
    "import cv2\n",
    "import os\n",
    "import copy\n",
    "import json"
   ]
  },
  {
   "cell_type": "code",
   "execution_count": null,
   "metadata": {},
   "outputs": [],
   "source": [
    "detection_model = RetinaNet().eval().cuda()\n",
    "detection_model.load(DetConfig.trained_model_path)"
   ]
  },
  {
   "cell_type": "code",
   "execution_count": null,
   "metadata": {},
   "outputs": [],
   "source": [
    "keypoint_model = SegmentationModel().eval().cuda()\n",
    "keypoint_model.load(KeyConfig.trained_model_path)"
   ]
  },
  {
   "cell_type": "code",
   "execution_count": null,
   "metadata": {},
   "outputs": [],
   "source": [
    "image_transform = T.Compose([T.ToTensor()])"
   ]
  },
  {
   "cell_type": "code",
   "execution_count": null,
   "metadata": {},
   "outputs": [],
   "source": [
    "image_paths = list(Config.images_directory.glob(\"*.jpg\"))\n",
    "random.shuffle(image_paths)\n",
    "score_threshold: float = 0.5\n",
    "for image_path in tqdm(image_paths):\n",
    "    slug = slugify(image_path)\n",
    "    img = imageio.imread(image_path)\n",
    "    img_h, img_w, _ = img.shape\n",
    "    aug_boxes = detection_model(img)\n",
    "    aug_boxes = aug_boxes[aug_boxes.scores > score_threshold].to_relative().to_tlbr()\n",
    "    boxes = aug_boxes.array[:,:4]\n",
    "    keypoints_list = []\n",
    "    for box in boxes:\n",
    "        x1, y1, x2, y2 = (box * np.array([img_w, img_h, img_w, img_h])).astype(int)\n",
    "        roi_w = x2 - x1\n",
    "        roi_h = y2 - y1\n",
    "        roi_resized = crop_and_resize(box, img, KeyConfig.image_crop_size[0],KeyConfig.image_crop_size[1])\n",
    "        roi_resized_w, roi_resized_h = roi_resized.size\n",
    "        x = image_transform(roi_resized)\n",
    "        x = torch.unsqueeze(x, 0).cuda()\n",
    "        keypoints = keypoint_model(x)['keypoints'][0].detach().cpu().numpy()\n",
    "        keypoints = keypoints_post_inference_processing(\n",
    "            keypoints, roi_resized_w, roi_resized_h, roi_w, roi_h, x1, y1\n",
    "        )\n",
    "        keypoints_list.append(keypoints.astype(float).tolist())\n",
    "        img = cv2.rectangle(img, (x1, y1), (x2, y2), (255, 0, 255), thickness=4)\n",
    "        img = cv2.circle(img, (int(keypoints[0][0]), int(keypoints[0][1])), radius=5, color=(0, 0, 255), thickness=-1) #Blue: Backtire\n",
    "        img = cv2.circle(img, (int(keypoints[1][0]), int(keypoints[1][1])), radius=5, color=(255, 0, 0), thickness=-1) #Red Front tire\n",
    "    im_rgb = cv2.cvtColor(img, cv2.COLOR_BGR2RGB)\n",
    "    filename = str(slug) + \".jpg\"\n",
    "    # save_path = '/code/data/datasets/temp_imgs'\n",
    "    # cv2.imwrite(os.path.join(save_path, filename), im_rgb)\n",
    "    aug_boxes.to_darwin_file(\n",
    "                output_path =  DetConfig.predictions_directory / (slug + \".json\"),\n",
    "                filename = filename,\n",
    "                label_names = [\"vehicle\"],\n",
    "            )\n",
    "    with open(KeyConfig.predictions_directory / f\"{slug}.json\", \"w\") as f:\n",
    "        f.write(json.dumps(keypoints_list))"
   ]
  }
 ],
 "metadata": {
  "kernelspec": {
   "display_name": "Python 3.9.14 64-bit",
   "language": "python",
   "name": "python3"
  },
  "language_info": {
   "name": "python",
   "version": "3.9.14"
  },
  "orig_nbformat": 4,
  "vscode": {
   "interpreter": {
    "hash": "f9f85f796d01129d0dd105a088854619f454435301f6ffec2fea96ecbd9be4ac"
   }
  }
 },
 "nbformat": 4,
 "nbformat_minor": 2
}
