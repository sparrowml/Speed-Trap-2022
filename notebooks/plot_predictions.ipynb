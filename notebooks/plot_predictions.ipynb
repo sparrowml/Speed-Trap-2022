{
 "cells": [
  {
   "cell_type": "code",
   "execution_count": 1,
   "metadata": {},
   "outputs": [
    {
     "name": "stderr",
     "output_type": "stream",
     "text": [
      "/usr/local/lib/python3.9/dist-packages/tqdm/auto.py:22: TqdmWarning: IProgress not found. Please update jupyter and ipywidgets. See https://ipywidgets.readthedocs.io/en/stable/user_install.html\n",
      "  from .autonotebook import tqdm as notebook_tqdm\n",
      "/usr/lib/python3/dist-packages/requests/__init__.py:89: RequestsDependencyWarning: urllib3 (1.26.12) or chardet (3.0.4) doesn't match a supported version!\n",
      "  warnings.warn(\"urllib3 ({}) or chardet ({}) doesn't match a supported \"\n"
     ]
    }
   ],
   "source": [
    "\n",
    "\n",
    "import csv\n",
    "from pathlib import Path\n",
    "\n",
    "import cv2\n",
    "import imageio\n",
    "import imageio_ffmpeg\n",
    "import numpy as np\n",
    "import onnxruntime as ort\n",
    "import torch\n",
    "import os\n",
    "import torchvision.transforms as T\n",
    "from PIL import Image\n",
    "from sparrow_datums import BoxTracking\n",
    "from tqdm import tqdm\n",
    "from torch.utils.data import DataLoader\n",
    "from speed_trapv3.keypoints.dataset import SegmentationDataset\n",
    "from speed_trapv3.keypoints.utils import Holdout\n",
    "import matplotlib.pyplot as plt\n",
    "from speed_trapv3.keypoints.model import SegmentationModel\n",
    "from speed_trapv3.keypoints.config import Config\n",
    "import matplotlib.pyplot as plt\n",
    "\n",
    "data = SegmentationDataset(Holdout.DEV)\n",
    "dataloader = DataLoader(data, batch_size=1, shuffle=False)\n",
    "model = SegmentationModel().eval().cuda()\n",
    "model.load(Config.trained_model_path)\n",
    "for batch in iter(dataloader):\n",
    "    x = batch['image']\n",
    "    x = x.cuda()\n",
    "    result = model(x)\n",
    "    keypoints = result[\"keypoints\"][0].detach().cpu().numpy()\n",
    "    # keypoints = batch['keypoints'].detach().cpu().numpy()[0]\n",
    "    transform = T.ToPILImage()\n",
    "    img = np.array(transform(x[0]))\n",
    "    img = cv2.circle(img, (int(keypoints[0][0]), int(keypoints[0][1])), radius=10, color=(0, 0, 255), thickness=-1) #Blue: Backtire\n",
    "    img = cv2.circle(img, (int(keypoints[1][0]), int(keypoints[1][1])), radius=10, color=(255, 0, 0), thickness=-1) #Red Front tire\n",
    "    save_path = '/code/data/datasets/temp_imgs'\n",
    "    filename = batch['annotation_path'][0].split(\"/\")[-1] + \".jpg\"\n",
    "    cv2.imwrite(os.path.join(save_path, filename), img)"
   ]
  }
 ],
 "metadata": {
  "kernelspec": {
   "display_name": "Python 3.9.14 64-bit",
   "language": "python",
   "name": "python3"
  },
  "language_info": {
   "codemirror_mode": {
    "name": "ipython",
    "version": 3
   },
   "file_extension": ".py",
   "mimetype": "text/x-python",
   "name": "python",
   "nbconvert_exporter": "python",
   "pygments_lexer": "ipython3",
   "version": "3.9.14"
  },
  "orig_nbformat": 4,
  "vscode": {
   "interpreter": {
    "hash": "f9f85f796d01129d0dd105a088854619f454435301f6ffec2fea96ecbd9be4ac"
   }
  }
 },
 "nbformat": 4,
 "nbformat_minor": 2
}
